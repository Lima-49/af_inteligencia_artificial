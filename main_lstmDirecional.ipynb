{
 "cells": [
  {
   "cell_type": "markdown",
   "metadata": {},
   "source": [
    "## Instalando Tensorflow"
   ]
  },
  {
   "cell_type": "code",
   "execution_count": 2,
   "metadata": {},
   "outputs": [
    {
     "name": "stdout",
     "output_type": "stream",
     "text": [
      "Requirement already satisfied: tensorflow in c:\\users\\lucas\\appdata\\local\\programs\\python\\python311\\lib\\site-packages (2.16.1)\n",
      "Requirement already satisfied: tensorflow-intel==2.16.1 in c:\\users\\lucas\\appdata\\local\\programs\\python\\python311\\lib\\site-packages (from tensorflow) (2.16.1)\n",
      "Requirement already satisfied: absl-py>=1.0.0 in c:\\users\\lucas\\appdata\\local\\programs\\python\\python311\\lib\\site-packages (from tensorflow-intel==2.16.1->tensorflow) (2.1.0)\n",
      "Requirement already satisfied: astunparse>=1.6.0 in c:\\users\\lucas\\appdata\\local\\programs\\python\\python311\\lib\\site-packages (from tensorflow-intel==2.16.1->tensorflow) (1.6.3)\n",
      "Requirement already satisfied: flatbuffers>=23.5.26 in c:\\users\\lucas\\appdata\\local\\programs\\python\\python311\\lib\\site-packages (from tensorflow-intel==2.16.1->tensorflow) (24.3.25)\n",
      "Requirement already satisfied: gast!=0.5.0,!=0.5.1,!=0.5.2,>=0.2.1 in c:\\users\\lucas\\appdata\\local\\programs\\python\\python311\\lib\\site-packages (from tensorflow-intel==2.16.1->tensorflow) (0.5.4)\n",
      "Requirement already satisfied: google-pasta>=0.1.1 in c:\\users\\lucas\\appdata\\local\\programs\\python\\python311\\lib\\site-packages (from tensorflow-intel==2.16.1->tensorflow) (0.2.0)\n",
      "Requirement already satisfied: h5py>=3.10.0 in c:\\users\\lucas\\appdata\\local\\programs\\python\\python311\\lib\\site-packages (from tensorflow-intel==2.16.1->tensorflow) (3.11.0)\n",
      "Requirement already satisfied: libclang>=13.0.0 in c:\\users\\lucas\\appdata\\local\\programs\\python\\python311\\lib\\site-packages (from tensorflow-intel==2.16.1->tensorflow) (18.1.1)\n",
      "Requirement already satisfied: ml-dtypes~=0.3.1 in c:\\users\\lucas\\appdata\\local\\programs\\python\\python311\\lib\\site-packages (from tensorflow-intel==2.16.1->tensorflow) (0.3.2)\n",
      "Requirement already satisfied: opt-einsum>=2.3.2 in c:\\users\\lucas\\appdata\\local\\programs\\python\\python311\\lib\\site-packages (from tensorflow-intel==2.16.1->tensorflow) (3.3.0)\n",
      "Requirement already satisfied: packaging in c:\\users\\lucas\\appdata\\local\\programs\\python\\python311\\lib\\site-packages (from tensorflow-intel==2.16.1->tensorflow) (23.1)\n",
      "Requirement already satisfied: protobuf!=4.21.0,!=4.21.1,!=4.21.2,!=4.21.3,!=4.21.4,!=4.21.5,<5.0.0dev,>=3.20.3 in c:\\users\\lucas\\appdata\\local\\programs\\python\\python311\\lib\\site-packages (from tensorflow-intel==2.16.1->tensorflow) (4.21.12)\n",
      "Requirement already satisfied: requests<3,>=2.21.0 in c:\\users\\lucas\\appdata\\local\\programs\\python\\python311\\lib\\site-packages (from tensorflow-intel==2.16.1->tensorflow) (2.32.2)\n",
      "Requirement already satisfied: setuptools in c:\\users\\lucas\\appdata\\local\\programs\\python\\python311\\lib\\site-packages (from tensorflow-intel==2.16.1->tensorflow) (65.5.0)\n",
      "Requirement already satisfied: six>=1.12.0 in c:\\users\\lucas\\appdata\\local\\programs\\python\\python311\\lib\\site-packages (from tensorflow-intel==2.16.1->tensorflow) (1.16.0)\n",
      "Requirement already satisfied: termcolor>=1.1.0 in c:\\users\\lucas\\appdata\\local\\programs\\python\\python311\\lib\\site-packages (from tensorflow-intel==2.16.1->tensorflow) (2.4.0)\n",
      "Requirement already satisfied: typing-extensions>=3.6.6 in c:\\users\\lucas\\appdata\\local\\programs\\python\\python311\\lib\\site-packages (from tensorflow-intel==2.16.1->tensorflow) (4.12.0)\n",
      "Requirement already satisfied: wrapt>=1.11.0 in c:\\users\\lucas\\appdata\\local\\programs\\python\\python311\\lib\\site-packages (from tensorflow-intel==2.16.1->tensorflow) (1.16.0)\n",
      "Requirement already satisfied: grpcio<2.0,>=1.24.3 in c:\\users\\lucas\\appdata\\local\\programs\\python\\python311\\lib\\site-packages (from tensorflow-intel==2.16.1->tensorflow) (1.64.0)\n",
      "Requirement already satisfied: tensorboard<2.17,>=2.16 in c:\\users\\lucas\\appdata\\local\\programs\\python\\python311\\lib\\site-packages (from tensorflow-intel==2.16.1->tensorflow) (2.16.2)\n",
      "Requirement already satisfied: keras>=3.0.0 in c:\\users\\lucas\\appdata\\local\\programs\\python\\python311\\lib\\site-packages (from tensorflow-intel==2.16.1->tensorflow) (3.3.3)\n",
      "Requirement already satisfied: tensorflow-io-gcs-filesystem>=0.23.1 in c:\\users\\lucas\\appdata\\local\\programs\\python\\python311\\lib\\site-packages (from tensorflow-intel==2.16.1->tensorflow) (0.31.0)\n",
      "Requirement already satisfied: numpy<2.0.0,>=1.23.5 in c:\\users\\lucas\\appdata\\local\\programs\\python\\python311\\lib\\site-packages (from tensorflow-intel==2.16.1->tensorflow) (1.24.3)\n",
      "Requirement already satisfied: wheel<1.0,>=0.23.0 in c:\\users\\lucas\\appdata\\local\\programs\\python\\python311\\lib\\site-packages (from astunparse>=1.6.0->tensorflow-intel==2.16.1->tensorflow) (0.43.0)\n",
      "Requirement already satisfied: rich in c:\\users\\lucas\\appdata\\local\\programs\\python\\python311\\lib\\site-packages (from keras>=3.0.0->tensorflow-intel==2.16.1->tensorflow) (13.7.1)\n",
      "Requirement already satisfied: namex in c:\\users\\lucas\\appdata\\local\\programs\\python\\python311\\lib\\site-packages (from keras>=3.0.0->tensorflow-intel==2.16.1->tensorflow) (0.0.8)\n",
      "Requirement already satisfied: optree in c:\\users\\lucas\\appdata\\local\\programs\\python\\python311\\lib\\site-packages (from keras>=3.0.0->tensorflow-intel==2.16.1->tensorflow) (0.11.0)\n",
      "Requirement already satisfied: charset-normalizer<4,>=2 in c:\\users\\lucas\\appdata\\local\\programs\\python\\python311\\lib\\site-packages (from requests<3,>=2.21.0->tensorflow-intel==2.16.1->tensorflow) (3.3.2)\n",
      "Requirement already satisfied: idna<4,>=2.5 in c:\\users\\lucas\\appdata\\local\\programs\\python\\python311\\lib\\site-packages (from requests<3,>=2.21.0->tensorflow-intel==2.16.1->tensorflow) (3.7)\n",
      "Requirement already satisfied: urllib3<3,>=1.21.1 in c:\\users\\lucas\\appdata\\local\\programs\\python\\python311\\lib\\site-packages (from requests<3,>=2.21.0->tensorflow-intel==2.16.1->tensorflow) (2.2.1)\n",
      "Requirement already satisfied: certifi>=2017.4.17 in c:\\users\\lucas\\appdata\\local\\programs\\python\\python311\\lib\\site-packages (from requests<3,>=2.21.0->tensorflow-intel==2.16.1->tensorflow) (2024.2.2)\n",
      "Requirement already satisfied: markdown>=2.6.8 in c:\\users\\lucas\\appdata\\local\\programs\\python\\python311\\lib\\site-packages (from tensorboard<2.17,>=2.16->tensorflow-intel==2.16.1->tensorflow) (3.6)\n",
      "Requirement already satisfied: tensorboard-data-server<0.8.0,>=0.7.0 in c:\\users\\lucas\\appdata\\local\\programs\\python\\python311\\lib\\site-packages (from tensorboard<2.17,>=2.16->tensorflow-intel==2.16.1->tensorflow) (0.7.2)\n",
      "Requirement already satisfied: werkzeug>=1.0.1 in c:\\users\\lucas\\appdata\\local\\programs\\python\\python311\\lib\\site-packages (from tensorboard<2.17,>=2.16->tensorflow-intel==2.16.1->tensorflow) (3.0.3)\n",
      "Requirement already satisfied: MarkupSafe>=2.1.1 in c:\\users\\lucas\\appdata\\local\\programs\\python\\python311\\lib\\site-packages (from werkzeug>=1.0.1->tensorboard<2.17,>=2.16->tensorflow-intel==2.16.1->tensorflow) (2.1.5)\n",
      "Requirement already satisfied: markdown-it-py>=2.2.0 in c:\\users\\lucas\\appdata\\local\\programs\\python\\python311\\lib\\site-packages (from rich->keras>=3.0.0->tensorflow-intel==2.16.1->tensorflow) (3.0.0)\n",
      "Requirement already satisfied: pygments<3.0.0,>=2.13.0 in c:\\users\\lucas\\appdata\\roaming\\python\\python311\\site-packages (from rich->keras>=3.0.0->tensorflow-intel==2.16.1->tensorflow) (2.16.1)\n",
      "Requirement already satisfied: mdurl~=0.1 in c:\\users\\lucas\\appdata\\local\\programs\\python\\python311\\lib\\site-packages (from markdown-it-py>=2.2.0->rich->keras>=3.0.0->tensorflow-intel==2.16.1->tensorflow) (0.1.2)\n",
      "Note: you may need to restart the kernel to use updated packages.\n",
      "Requirement already satisfied: gensim in c:\\users\\lucas\\appdata\\local\\programs\\python\\python311\\lib\\site-packages (4.3.2)\n",
      "Requirement already satisfied: numpy>=1.18.5 in c:\\users\\lucas\\appdata\\local\\programs\\python\\python311\\lib\\site-packages (from gensim) (1.24.3)\n",
      "Requirement already satisfied: scipy>=1.7.0 in c:\\users\\lucas\\appdata\\local\\programs\\python\\python311\\lib\\site-packages (from gensim) (1.11.2)\n",
      "Requirement already satisfied: smart-open>=1.8.1 in c:\\users\\lucas\\appdata\\local\\programs\\python\\python311\\lib\\site-packages (from gensim) (7.0.4)\n",
      "Requirement already satisfied: wrapt in c:\\users\\lucas\\appdata\\local\\programs\\python\\python311\\lib\\site-packages (from smart-open>=1.8.1->gensim) (1.16.0)\n",
      "Note: you may need to restart the kernel to use updated packages.\n",
      "Requirement already satisfied: nltk in c:\\users\\lucas\\appdata\\local\\programs\\python\\python311\\lib\\site-packages (3.8.1)\n",
      "Requirement already satisfied: click in c:\\users\\lucas\\appdata\\local\\programs\\python\\python311\\lib\\site-packages (from nltk) (8.1.7)\n",
      "Requirement already satisfied: joblib in c:\\users\\lucas\\appdata\\local\\programs\\python\\python311\\lib\\site-packages (from nltk) (1.3.2)\n",
      "Requirement already satisfied: regex>=2021.8.3 in c:\\users\\lucas\\appdata\\local\\programs\\python\\python311\\lib\\site-packages (from nltk) (2024.5.15)\n",
      "Requirement already satisfied: tqdm in c:\\users\\lucas\\appdata\\local\\programs\\python\\python311\\lib\\site-packages (from nltk) (4.66.4)\n",
      "Requirement already satisfied: colorama in c:\\users\\lucas\\appdata\\roaming\\python\\python311\\site-packages (from click->nltk) (0.4.6)\n",
      "Note: you may need to restart the kernel to use updated packages.\n",
      "Requirement already satisfied: seaborn in c:\\users\\lucas\\appdata\\local\\programs\\python\\python311\\lib\\site-packages (0.13.2)\n",
      "Requirement already satisfied: numpy!=1.24.0,>=1.20 in c:\\users\\lucas\\appdata\\local\\programs\\python\\python311\\lib\\site-packages (from seaborn) (1.24.3)\n",
      "Requirement already satisfied: pandas>=1.2 in c:\\users\\lucas\\appdata\\local\\programs\\python\\python311\\lib\\site-packages (from seaborn) (2.1.0)\n",
      "Requirement already satisfied: matplotlib!=3.6.1,>=3.4 in c:\\users\\lucas\\appdata\\local\\programs\\python\\python311\\lib\\site-packages (from seaborn) (3.7.1)\n",
      "Requirement already satisfied: contourpy>=1.0.1 in c:\\users\\lucas\\appdata\\local\\programs\\python\\python311\\lib\\site-packages (from matplotlib!=3.6.1,>=3.4->seaborn) (1.0.7)\n",
      "Requirement already satisfied: cycler>=0.10 in c:\\users\\lucas\\appdata\\local\\programs\\python\\python311\\lib\\site-packages (from matplotlib!=3.6.1,>=3.4->seaborn) (0.11.0)\n",
      "Requirement already satisfied: fonttools>=4.22.0 in c:\\users\\lucas\\appdata\\local\\programs\\python\\python311\\lib\\site-packages (from matplotlib!=3.6.1,>=3.4->seaborn) (4.39.3)\n",
      "Requirement already satisfied: kiwisolver>=1.0.1 in c:\\users\\lucas\\appdata\\local\\programs\\python\\python311\\lib\\site-packages (from matplotlib!=3.6.1,>=3.4->seaborn) (1.4.4)\n",
      "Requirement already satisfied: packaging>=20.0 in c:\\users\\lucas\\appdata\\local\\programs\\python\\python311\\lib\\site-packages (from matplotlib!=3.6.1,>=3.4->seaborn) (23.1)\n",
      "Requirement already satisfied: pillow>=6.2.0 in c:\\users\\lucas\\appdata\\local\\programs\\python\\python311\\lib\\site-packages (from matplotlib!=3.6.1,>=3.4->seaborn) (9.5.0)\n",
      "Requirement already satisfied: pyparsing>=2.3.1 in c:\\users\\lucas\\appdata\\local\\programs\\python\\python311\\lib\\site-packages (from matplotlib!=3.6.1,>=3.4->seaborn) (3.0.9)\n",
      "Requirement already satisfied: python-dateutil>=2.7 in c:\\users\\lucas\\appdata\\local\\programs\\python\\python311\\lib\\site-packages (from matplotlib!=3.6.1,>=3.4->seaborn) (2.8.2)\n",
      "Requirement already satisfied: pytz>=2020.1 in c:\\users\\lucas\\appdata\\local\\programs\\python\\python311\\lib\\site-packages (from pandas>=1.2->seaborn) (2023.3.post1)\n",
      "Requirement already satisfied: tzdata>=2022.1 in c:\\users\\lucas\\appdata\\local\\programs\\python\\python311\\lib\\site-packages (from pandas>=1.2->seaborn) (2023.3)\n",
      "Requirement already satisfied: six>=1.5 in c:\\users\\lucas\\appdata\\local\\programs\\python\\python311\\lib\\site-packages (from python-dateutil>=2.7->matplotlib!=3.6.1,>=3.4->seaborn) (1.16.0)\n",
      "Note: you may need to restart the kernel to use updated packages.\n",
      "Requirement already satisfied: keras in c:\\users\\lucas\\appdata\\local\\programs\\python\\python311\\lib\\site-packages (3.3.3)\n",
      "Requirement already satisfied: absl-py in c:\\users\\lucas\\appdata\\local\\programs\\python\\python311\\lib\\site-packages (from keras) (2.1.0)\n",
      "Requirement already satisfied: numpy in c:\\users\\lucas\\appdata\\local\\programs\\python\\python311\\lib\\site-packages (from keras) (1.24.3)\n",
      "Requirement already satisfied: rich in c:\\users\\lucas\\appdata\\local\\programs\\python\\python311\\lib\\site-packages (from keras) (13.7.1)\n",
      "Requirement already satisfied: namex in c:\\users\\lucas\\appdata\\local\\programs\\python\\python311\\lib\\site-packages (from keras) (0.0.8)\n",
      "Requirement already satisfied: h5py in c:\\users\\lucas\\appdata\\local\\programs\\python\\python311\\lib\\site-packages (from keras) (3.11.0)\n",
      "Requirement already satisfied: optree in c:\\users\\lucas\\appdata\\local\\programs\\python\\python311\\lib\\site-packages (from keras) (0.11.0)\n",
      "Requirement already satisfied: ml-dtypes in c:\\users\\lucas\\appdata\\local\\programs\\python\\python311\\lib\\site-packages (from keras) (0.3.2)\n",
      "Requirement already satisfied: typing-extensions>=4.0.0 in c:\\users\\lucas\\appdata\\local\\programs\\python\\python311\\lib\\site-packages (from optree->keras) (4.12.0)\n",
      "Requirement already satisfied: markdown-it-py>=2.2.0 in c:\\users\\lucas\\appdata\\local\\programs\\python\\python311\\lib\\site-packages (from rich->keras) (3.0.0)\n",
      "Requirement already satisfied: pygments<3.0.0,>=2.13.0 in c:\\users\\lucas\\appdata\\roaming\\python\\python311\\site-packages (from rich->keras) (2.16.1)\n",
      "Requirement already satisfied: mdurl~=0.1 in c:\\users\\lucas\\appdata\\local\\programs\\python\\python311\\lib\\site-packages (from markdown-it-py>=2.2.0->rich->keras) (0.1.2)\n",
      "Note: you may need to restart the kernel to use updated packages.\n",
      "Requirement already satisfied: tensorflow in c:\\users\\lucas\\appdata\\local\\programs\\python\\python311\\lib\\site-packages (2.16.1)\n",
      "Requirement already satisfied: tensorflow-intel==2.16.1 in c:\\users\\lucas\\appdata\\local\\programs\\python\\python311\\lib\\site-packages (from tensorflow) (2.16.1)\n",
      "Requirement already satisfied: absl-py>=1.0.0 in c:\\users\\lucas\\appdata\\local\\programs\\python\\python311\\lib\\site-packages (from tensorflow-intel==2.16.1->tensorflow) (2.1.0)\n",
      "Requirement already satisfied: astunparse>=1.6.0 in c:\\users\\lucas\\appdata\\local\\programs\\python\\python311\\lib\\site-packages (from tensorflow-intel==2.16.1->tensorflow) (1.6.3)\n",
      "Requirement already satisfied: flatbuffers>=23.5.26 in c:\\users\\lucas\\appdata\\local\\programs\\python\\python311\\lib\\site-packages (from tensorflow-intel==2.16.1->tensorflow) (24.3.25)\n",
      "Requirement already satisfied: gast!=0.5.0,!=0.5.1,!=0.5.2,>=0.2.1 in c:\\users\\lucas\\appdata\\local\\programs\\python\\python311\\lib\\site-packages (from tensorflow-intel==2.16.1->tensorflow) (0.5.4)\n",
      "Requirement already satisfied: google-pasta>=0.1.1 in c:\\users\\lucas\\appdata\\local\\programs\\python\\python311\\lib\\site-packages (from tensorflow-intel==2.16.1->tensorflow) (0.2.0)\n",
      "Requirement already satisfied: h5py>=3.10.0 in c:\\users\\lucas\\appdata\\local\\programs\\python\\python311\\lib\\site-packages (from tensorflow-intel==2.16.1->tensorflow) (3.11.0)\n",
      "Requirement already satisfied: libclang>=13.0.0 in c:\\users\\lucas\\appdata\\local\\programs\\python\\python311\\lib\\site-packages (from tensorflow-intel==2.16.1->tensorflow) (18.1.1)\n",
      "Requirement already satisfied: ml-dtypes~=0.3.1 in c:\\users\\lucas\\appdata\\local\\programs\\python\\python311\\lib\\site-packages (from tensorflow-intel==2.16.1->tensorflow) (0.3.2)\n",
      "Requirement already satisfied: opt-einsum>=2.3.2 in c:\\users\\lucas\\appdata\\local\\programs\\python\\python311\\lib\\site-packages (from tensorflow-intel==2.16.1->tensorflow) (3.3.0)\n",
      "Requirement already satisfied: packaging in c:\\users\\lucas\\appdata\\local\\programs\\python\\python311\\lib\\site-packages (from tensorflow-intel==2.16.1->tensorflow) (23.1)\n",
      "Requirement already satisfied: protobuf!=4.21.0,!=4.21.1,!=4.21.2,!=4.21.3,!=4.21.4,!=4.21.5,<5.0.0dev,>=3.20.3 in c:\\users\\lucas\\appdata\\local\\programs\\python\\python311\\lib\\site-packages (from tensorflow-intel==2.16.1->tensorflow) (4.21.12)\n",
      "Requirement already satisfied: requests<3,>=2.21.0 in c:\\users\\lucas\\appdata\\local\\programs\\python\\python311\\lib\\site-packages (from tensorflow-intel==2.16.1->tensorflow) (2.32.2)\n",
      "Requirement already satisfied: setuptools in c:\\users\\lucas\\appdata\\local\\programs\\python\\python311\\lib\\site-packages (from tensorflow-intel==2.16.1->tensorflow) (65.5.0)\n",
      "Requirement already satisfied: six>=1.12.0 in c:\\users\\lucas\\appdata\\local\\programs\\python\\python311\\lib\\site-packages (from tensorflow-intel==2.16.1->tensorflow) (1.16.0)\n",
      "Requirement already satisfied: termcolor>=1.1.0 in c:\\users\\lucas\\appdata\\local\\programs\\python\\python311\\lib\\site-packages (from tensorflow-intel==2.16.1->tensorflow) (2.4.0)\n",
      "Requirement already satisfied: typing-extensions>=3.6.6 in c:\\users\\lucas\\appdata\\local\\programs\\python\\python311\\lib\\site-packages (from tensorflow-intel==2.16.1->tensorflow) (4.12.0)\n",
      "Requirement already satisfied: wrapt>=1.11.0 in c:\\users\\lucas\\appdata\\local\\programs\\python\\python311\\lib\\site-packages (from tensorflow-intel==2.16.1->tensorflow) (1.16.0)\n",
      "Requirement already satisfied: grpcio<2.0,>=1.24.3 in c:\\users\\lucas\\appdata\\local\\programs\\python\\python311\\lib\\site-packages (from tensorflow-intel==2.16.1->tensorflow) (1.64.0)\n",
      "Requirement already satisfied: tensorboard<2.17,>=2.16 in c:\\users\\lucas\\appdata\\local\\programs\\python\\python311\\lib\\site-packages (from tensorflow-intel==2.16.1->tensorflow) (2.16.2)\n",
      "Requirement already satisfied: keras>=3.0.0 in c:\\users\\lucas\\appdata\\local\\programs\\python\\python311\\lib\\site-packages (from tensorflow-intel==2.16.1->tensorflow) (3.3.3)\n",
      "Requirement already satisfied: tensorflow-io-gcs-filesystem>=0.23.1 in c:\\users\\lucas\\appdata\\local\\programs\\python\\python311\\lib\\site-packages (from tensorflow-intel==2.16.1->tensorflow) (0.31.0)\n",
      "Requirement already satisfied: numpy<2.0.0,>=1.23.5 in c:\\users\\lucas\\appdata\\local\\programs\\python\\python311\\lib\\site-packages (from tensorflow-intel==2.16.1->tensorflow) (1.24.3)\n",
      "Requirement already satisfied: wheel<1.0,>=0.23.0 in c:\\users\\lucas\\appdata\\local\\programs\\python\\python311\\lib\\site-packages (from astunparse>=1.6.0->tensorflow-intel==2.16.1->tensorflow) (0.43.0)\n",
      "Requirement already satisfied: rich in c:\\users\\lucas\\appdata\\local\\programs\\python\\python311\\lib\\site-packages (from keras>=3.0.0->tensorflow-intel==2.16.1->tensorflow) (13.7.1)\n",
      "Requirement already satisfied: namex in c:\\users\\lucas\\appdata\\local\\programs\\python\\python311\\lib\\site-packages (from keras>=3.0.0->tensorflow-intel==2.16.1->tensorflow) (0.0.8)\n",
      "Requirement already satisfied: optree in c:\\users\\lucas\\appdata\\local\\programs\\python\\python311\\lib\\site-packages (from keras>=3.0.0->tensorflow-intel==2.16.1->tensorflow) (0.11.0)\n",
      "Requirement already satisfied: charset-normalizer<4,>=2 in c:\\users\\lucas\\appdata\\local\\programs\\python\\python311\\lib\\site-packages (from requests<3,>=2.21.0->tensorflow-intel==2.16.1->tensorflow) (3.3.2)\n",
      "Requirement already satisfied: idna<4,>=2.5 in c:\\users\\lucas\\appdata\\local\\programs\\python\\python311\\lib\\site-packages (from requests<3,>=2.21.0->tensorflow-intel==2.16.1->tensorflow) (3.7)\n",
      "Requirement already satisfied: urllib3<3,>=1.21.1 in c:\\users\\lucas\\appdata\\local\\programs\\python\\python311\\lib\\site-packages (from requests<3,>=2.21.0->tensorflow-intel==2.16.1->tensorflow) (2.2.1)\n",
      "Requirement already satisfied: certifi>=2017.4.17 in c:\\users\\lucas\\appdata\\local\\programs\\python\\python311\\lib\\site-packages (from requests<3,>=2.21.0->tensorflow-intel==2.16.1->tensorflow) (2024.2.2)\n",
      "Requirement already satisfied: markdown>=2.6.8 in c:\\users\\lucas\\appdata\\local\\programs\\python\\python311\\lib\\site-packages (from tensorboard<2.17,>=2.16->tensorflow-intel==2.16.1->tensorflow) (3.6)\n",
      "Requirement already satisfied: tensorboard-data-server<0.8.0,>=0.7.0 in c:\\users\\lucas\\appdata\\local\\programs\\python\\python311\\lib\\site-packages (from tensorboard<2.17,>=2.16->tensorflow-intel==2.16.1->tensorflow) (0.7.2)\n",
      "Requirement already satisfied: werkzeug>=1.0.1 in c:\\users\\lucas\\appdata\\local\\programs\\python\\python311\\lib\\site-packages (from tensorboard<2.17,>=2.16->tensorflow-intel==2.16.1->tensorflow) (3.0.3)\n",
      "Requirement already satisfied: MarkupSafe>=2.1.1 in c:\\users\\lucas\\appdata\\local\\programs\\python\\python311\\lib\\site-packages (from werkzeug>=1.0.1->tensorboard<2.17,>=2.16->tensorflow-intel==2.16.1->tensorflow) (2.1.5)\n",
      "Requirement already satisfied: markdown-it-py>=2.2.0 in c:\\users\\lucas\\appdata\\local\\programs\\python\\python311\\lib\\site-packages (from rich->keras>=3.0.0->tensorflow-intel==2.16.1->tensorflow) (3.0.0)\n",
      "Requirement already satisfied: pygments<3.0.0,>=2.13.0 in c:\\users\\lucas\\appdata\\roaming\\python\\python311\\site-packages (from rich->keras>=3.0.0->tensorflow-intel==2.16.1->tensorflow) (2.16.1)\n",
      "Requirement already satisfied: mdurl~=0.1 in c:\\users\\lucas\\appdata\\local\\programs\\python\\python311\\lib\\site-packages (from markdown-it-py>=2.2.0->rich->keras>=3.0.0->tensorflow-intel==2.16.1->tensorflow) (0.1.2)\n",
      "Note: you may need to restart the kernel to use updated packages.\n",
      "Requirement already satisfied: scikeras[tensorflow] in c:\\users\\lucas\\appdata\\local\\programs\\python\\python311\\lib\\site-packages (0.13.0)\n",
      "Requirement already satisfied: keras>=3.2.0 in c:\\users\\lucas\\appdata\\local\\programs\\python\\python311\\lib\\site-packages (from scikeras[tensorflow]) (3.3.3)\n",
      "Requirement already satisfied: scikit-learn>=1.4.2 in c:\\users\\lucas\\appdata\\local\\programs\\python\\python311\\lib\\site-packages (from scikeras[tensorflow]) (1.5.0)\n",
      "Requirement already satisfied: tensorflow>=2.16.1 in c:\\users\\lucas\\appdata\\local\\programs\\python\\python311\\lib\\site-packages (from scikeras[tensorflow]) (2.16.1)\n",
      "Requirement already satisfied: absl-py in c:\\users\\lucas\\appdata\\local\\programs\\python\\python311\\lib\\site-packages (from keras>=3.2.0->scikeras[tensorflow]) (2.1.0)\n",
      "Requirement already satisfied: numpy in c:\\users\\lucas\\appdata\\local\\programs\\python\\python311\\lib\\site-packages (from keras>=3.2.0->scikeras[tensorflow]) (1.24.3)\n",
      "Requirement already satisfied: rich in c:\\users\\lucas\\appdata\\local\\programs\\python\\python311\\lib\\site-packages (from keras>=3.2.0->scikeras[tensorflow]) (13.7.1)\n",
      "Requirement already satisfied: namex in c:\\users\\lucas\\appdata\\local\\programs\\python\\python311\\lib\\site-packages (from keras>=3.2.0->scikeras[tensorflow]) (0.0.8)\n",
      "Requirement already satisfied: h5py in c:\\users\\lucas\\appdata\\local\\programs\\python\\python311\\lib\\site-packages (from keras>=3.2.0->scikeras[tensorflow]) (3.11.0)\n",
      "Requirement already satisfied: optree in c:\\users\\lucas\\appdata\\local\\programs\\python\\python311\\lib\\site-packages (from keras>=3.2.0->scikeras[tensorflow]) (0.11.0)\n",
      "Requirement already satisfied: ml-dtypes in c:\\users\\lucas\\appdata\\local\\programs\\python\\python311\\lib\\site-packages (from keras>=3.2.0->scikeras[tensorflow]) (0.3.2)\n",
      "Requirement already satisfied: scipy>=1.6.0 in c:\\users\\lucas\\appdata\\local\\programs\\python\\python311\\lib\\site-packages (from scikit-learn>=1.4.2->scikeras[tensorflow]) (1.11.2)\n",
      "Requirement already satisfied: joblib>=1.2.0 in c:\\users\\lucas\\appdata\\local\\programs\\python\\python311\\lib\\site-packages (from scikit-learn>=1.4.2->scikeras[tensorflow]) (1.3.2)\n",
      "Requirement already satisfied: threadpoolctl>=3.1.0 in c:\\users\\lucas\\appdata\\local\\programs\\python\\python311\\lib\\site-packages (from scikit-learn>=1.4.2->scikeras[tensorflow]) (3.2.0)\n",
      "Requirement already satisfied: tensorflow-intel==2.16.1 in c:\\users\\lucas\\appdata\\local\\programs\\python\\python311\\lib\\site-packages (from tensorflow>=2.16.1->scikeras[tensorflow]) (2.16.1)\n",
      "Requirement already satisfied: astunparse>=1.6.0 in c:\\users\\lucas\\appdata\\local\\programs\\python\\python311\\lib\\site-packages (from tensorflow-intel==2.16.1->tensorflow>=2.16.1->scikeras[tensorflow]) (1.6.3)\n",
      "Requirement already satisfied: flatbuffers>=23.5.26 in c:\\users\\lucas\\appdata\\local\\programs\\python\\python311\\lib\\site-packages (from tensorflow-intel==2.16.1->tensorflow>=2.16.1->scikeras[tensorflow]) (24.3.25)\n",
      "Requirement already satisfied: gast!=0.5.0,!=0.5.1,!=0.5.2,>=0.2.1 in c:\\users\\lucas\\appdata\\local\\programs\\python\\python311\\lib\\site-packages (from tensorflow-intel==2.16.1->tensorflow>=2.16.1->scikeras[tensorflow]) (0.5.4)\n",
      "Requirement already satisfied: google-pasta>=0.1.1 in c:\\users\\lucas\\appdata\\local\\programs\\python\\python311\\lib\\site-packages (from tensorflow-intel==2.16.1->tensorflow>=2.16.1->scikeras[tensorflow]) (0.2.0)\n",
      "Requirement already satisfied: libclang>=13.0.0 in c:\\users\\lucas\\appdata\\local\\programs\\python\\python311\\lib\\site-packages (from tensorflow-intel==2.16.1->tensorflow>=2.16.1->scikeras[tensorflow]) (18.1.1)\n",
      "Requirement already satisfied: opt-einsum>=2.3.2 in c:\\users\\lucas\\appdata\\local\\programs\\python\\python311\\lib\\site-packages (from tensorflow-intel==2.16.1->tensorflow>=2.16.1->scikeras[tensorflow]) (3.3.0)\n",
      "Requirement already satisfied: packaging in c:\\users\\lucas\\appdata\\local\\programs\\python\\python311\\lib\\site-packages (from tensorflow-intel==2.16.1->tensorflow>=2.16.1->scikeras[tensorflow]) (23.1)\n",
      "Requirement already satisfied: protobuf!=4.21.0,!=4.21.1,!=4.21.2,!=4.21.3,!=4.21.4,!=4.21.5,<5.0.0dev,>=3.20.3 in c:\\users\\lucas\\appdata\\local\\programs\\python\\python311\\lib\\site-packages (from tensorflow-intel==2.16.1->tensorflow>=2.16.1->scikeras[tensorflow]) (4.21.12)\n",
      "Requirement already satisfied: requests<3,>=2.21.0 in c:\\users\\lucas\\appdata\\local\\programs\\python\\python311\\lib\\site-packages (from tensorflow-intel==2.16.1->tensorflow>=2.16.1->scikeras[tensorflow]) (2.32.2)\n",
      "Requirement already satisfied: setuptools in c:\\users\\lucas\\appdata\\local\\programs\\python\\python311\\lib\\site-packages (from tensorflow-intel==2.16.1->tensorflow>=2.16.1->scikeras[tensorflow]) (65.5.0)\n",
      "Requirement already satisfied: six>=1.12.0 in c:\\users\\lucas\\appdata\\local\\programs\\python\\python311\\lib\\site-packages (from tensorflow-intel==2.16.1->tensorflow>=2.16.1->scikeras[tensorflow]) (1.16.0)\n",
      "Requirement already satisfied: termcolor>=1.1.0 in c:\\users\\lucas\\appdata\\local\\programs\\python\\python311\\lib\\site-packages (from tensorflow-intel==2.16.1->tensorflow>=2.16.1->scikeras[tensorflow]) (2.4.0)\n",
      "Requirement already satisfied: typing-extensions>=3.6.6 in c:\\users\\lucas\\appdata\\local\\programs\\python\\python311\\lib\\site-packages (from tensorflow-intel==2.16.1->tensorflow>=2.16.1->scikeras[tensorflow]) (4.12.0)\n",
      "Requirement already satisfied: wrapt>=1.11.0 in c:\\users\\lucas\\appdata\\local\\programs\\python\\python311\\lib\\site-packages (from tensorflow-intel==2.16.1->tensorflow>=2.16.1->scikeras[tensorflow]) (1.16.0)\n",
      "Requirement already satisfied: grpcio<2.0,>=1.24.3 in c:\\users\\lucas\\appdata\\local\\programs\\python\\python311\\lib\\site-packages (from tensorflow-intel==2.16.1->tensorflow>=2.16.1->scikeras[tensorflow]) (1.64.0)\n",
      "Requirement already satisfied: tensorboard<2.17,>=2.16 in c:\\users\\lucas\\appdata\\local\\programs\\python\\python311\\lib\\site-packages (from tensorflow-intel==2.16.1->tensorflow>=2.16.1->scikeras[tensorflow]) (2.16.2)\n",
      "Requirement already satisfied: tensorflow-io-gcs-filesystem>=0.23.1 in c:\\users\\lucas\\appdata\\local\\programs\\python\\python311\\lib\\site-packages (from tensorflow-intel==2.16.1->tensorflow>=2.16.1->scikeras[tensorflow]) (0.31.0)\n",
      "Requirement already satisfied: markdown-it-py>=2.2.0 in c:\\users\\lucas\\appdata\\local\\programs\\python\\python311\\lib\\site-packages (from rich->keras>=3.2.0->scikeras[tensorflow]) (3.0.0)\n",
      "Requirement already satisfied: pygments<3.0.0,>=2.13.0 in c:\\users\\lucas\\appdata\\roaming\\python\\python311\\site-packages (from rich->keras>=3.2.0->scikeras[tensorflow]) (2.16.1)\n",
      "Requirement already satisfied: wheel<1.0,>=0.23.0 in c:\\users\\lucas\\appdata\\local\\programs\\python\\python311\\lib\\site-packages (from astunparse>=1.6.0->tensorflow-intel==2.16.1->tensorflow>=2.16.1->scikeras[tensorflow]) (0.43.0)\n",
      "Requirement already satisfied: mdurl~=0.1 in c:\\users\\lucas\\appdata\\local\\programs\\python\\python311\\lib\\site-packages (from markdown-it-py>=2.2.0->rich->keras>=3.2.0->scikeras[tensorflow]) (0.1.2)\n",
      "Requirement already satisfied: charset-normalizer<4,>=2 in c:\\users\\lucas\\appdata\\local\\programs\\python\\python311\\lib\\site-packages (from requests<3,>=2.21.0->tensorflow-intel==2.16.1->tensorflow>=2.16.1->scikeras[tensorflow]) (3.3.2)\n",
      "Requirement already satisfied: idna<4,>=2.5 in c:\\users\\lucas\\appdata\\local\\programs\\python\\python311\\lib\\site-packages (from requests<3,>=2.21.0->tensorflow-intel==2.16.1->tensorflow>=2.16.1->scikeras[tensorflow]) (3.7)\n",
      "Requirement already satisfied: urllib3<3,>=1.21.1 in c:\\users\\lucas\\appdata\\local\\programs\\python\\python311\\lib\\site-packages (from requests<3,>=2.21.0->tensorflow-intel==2.16.1->tensorflow>=2.16.1->scikeras[tensorflow]) (2.2.1)\n",
      "Requirement already satisfied: certifi>=2017.4.17 in c:\\users\\lucas\\appdata\\local\\programs\\python\\python311\\lib\\site-packages (from requests<3,>=2.21.0->tensorflow-intel==2.16.1->tensorflow>=2.16.1->scikeras[tensorflow]) (2024.2.2)\n",
      "Requirement already satisfied: markdown>=2.6.8 in c:\\users\\lucas\\appdata\\local\\programs\\python\\python311\\lib\\site-packages (from tensorboard<2.17,>=2.16->tensorflow-intel==2.16.1->tensorflow>=2.16.1->scikeras[tensorflow]) (3.6)\n",
      "Requirement already satisfied: tensorboard-data-server<0.8.0,>=0.7.0 in c:\\users\\lucas\\appdata\\local\\programs\\python\\python311\\lib\\site-packages (from tensorboard<2.17,>=2.16->tensorflow-intel==2.16.1->tensorflow>=2.16.1->scikeras[tensorflow]) (0.7.2)\n",
      "Requirement already satisfied: werkzeug>=1.0.1 in c:\\users\\lucas\\appdata\\local\\programs\\python\\python311\\lib\\site-packages (from tensorboard<2.17,>=2.16->tensorflow-intel==2.16.1->tensorflow>=2.16.1->scikeras[tensorflow]) (3.0.3)\n",
      "Requirement already satisfied: MarkupSafe>=2.1.1 in c:\\users\\lucas\\appdata\\local\\programs\\python\\python311\\lib\\site-packages (from werkzeug>=1.0.1->tensorboard<2.17,>=2.16->tensorflow-intel==2.16.1->tensorflow>=2.16.1->scikeras[tensorflow]) (2.1.5)\n",
      "Note: you may need to restart the kernel to use updated packages.\n"
     ]
    }
   ],
   "source": [
    "# Instalação das bibliotecas necessárias\n",
    "%pip install tensorflow\n",
    "%pip install gensim\n",
    "%pip install nltk\n",
    "%pip install seaborn\n",
    "%pip install keras\n",
    "%pip install --upgrade tensorflow\n",
    "%pip install scikeras[tensorflow]\n"
   ]
  },
  {
   "cell_type": "code",
   "execution_count": 3,
   "metadata": {},
   "outputs": [
    {
     "name": "stdout",
     "output_type": "stream",
     "text": [
      "Requirement already satisfied: tensorflow in c:\\users\\lucas\\appdata\\local\\programs\\python\\python311\\lib\\site-packages (2.16.1)\n",
      "Requirement already satisfied: tensorflow-intel==2.16.1 in c:\\users\\lucas\\appdata\\local\\programs\\python\\python311\\lib\\site-packages (from tensorflow) (2.16.1)\n",
      "Requirement already satisfied: absl-py>=1.0.0 in c:\\users\\lucas\\appdata\\local\\programs\\python\\python311\\lib\\site-packages (from tensorflow-intel==2.16.1->tensorflow) (2.1.0)\n",
      "Requirement already satisfied: astunparse>=1.6.0 in c:\\users\\lucas\\appdata\\local\\programs\\python\\python311\\lib\\site-packages (from tensorflow-intel==2.16.1->tensorflow) (1.6.3)\n",
      "Requirement already satisfied: flatbuffers>=23.5.26 in c:\\users\\lucas\\appdata\\local\\programs\\python\\python311\\lib\\site-packages (from tensorflow-intel==2.16.1->tensorflow) (24.3.25)\n",
      "Requirement already satisfied: gast!=0.5.0,!=0.5.1,!=0.5.2,>=0.2.1 in c:\\users\\lucas\\appdata\\local\\programs\\python\\python311\\lib\\site-packages (from tensorflow-intel==2.16.1->tensorflow) (0.5.4)\n",
      "Requirement already satisfied: google-pasta>=0.1.1 in c:\\users\\lucas\\appdata\\local\\programs\\python\\python311\\lib\\site-packages (from tensorflow-intel==2.16.1->tensorflow) (0.2.0)\n",
      "Requirement already satisfied: h5py>=3.10.0 in c:\\users\\lucas\\appdata\\local\\programs\\python\\python311\\lib\\site-packages (from tensorflow-intel==2.16.1->tensorflow) (3.11.0)\n",
      "Requirement already satisfied: libclang>=13.0.0 in c:\\users\\lucas\\appdata\\local\\programs\\python\\python311\\lib\\site-packages (from tensorflow-intel==2.16.1->tensorflow) (18.1.1)\n",
      "Requirement already satisfied: ml-dtypes~=0.3.1 in c:\\users\\lucas\\appdata\\local\\programs\\python\\python311\\lib\\site-packages (from tensorflow-intel==2.16.1->tensorflow) (0.3.2)\n",
      "Requirement already satisfied: opt-einsum>=2.3.2 in c:\\users\\lucas\\appdata\\local\\programs\\python\\python311\\lib\\site-packages (from tensorflow-intel==2.16.1->tensorflow) (3.3.0)\n",
      "Requirement already satisfied: packaging in c:\\users\\lucas\\appdata\\local\\programs\\python\\python311\\lib\\site-packages (from tensorflow-intel==2.16.1->tensorflow) (23.1)\n",
      "Requirement already satisfied: protobuf!=4.21.0,!=4.21.1,!=4.21.2,!=4.21.3,!=4.21.4,!=4.21.5,<5.0.0dev,>=3.20.3 in c:\\users\\lucas\\appdata\\local\\programs\\python\\python311\\lib\\site-packages (from tensorflow-intel==2.16.1->tensorflow) (4.21.12)\n",
      "Requirement already satisfied: requests<3,>=2.21.0 in c:\\users\\lucas\\appdata\\local\\programs\\python\\python311\\lib\\site-packages (from tensorflow-intel==2.16.1->tensorflow) (2.32.2)\n",
      "Requirement already satisfied: setuptools in c:\\users\\lucas\\appdata\\local\\programs\\python\\python311\\lib\\site-packages (from tensorflow-intel==2.16.1->tensorflow) (65.5.0)\n",
      "Requirement already satisfied: six>=1.12.0 in c:\\users\\lucas\\appdata\\local\\programs\\python\\python311\\lib\\site-packages (from tensorflow-intel==2.16.1->tensorflow) (1.16.0)\n",
      "Requirement already satisfied: termcolor>=1.1.0 in c:\\users\\lucas\\appdata\\local\\programs\\python\\python311\\lib\\site-packages (from tensorflow-intel==2.16.1->tensorflow) (2.4.0)\n",
      "Requirement already satisfied: typing-extensions>=3.6.6 in c:\\users\\lucas\\appdata\\local\\programs\\python\\python311\\lib\\site-packages (from tensorflow-intel==2.16.1->tensorflow) (4.12.0)\n",
      "Requirement already satisfied: wrapt>=1.11.0 in c:\\users\\lucas\\appdata\\local\\programs\\python\\python311\\lib\\site-packages (from tensorflow-intel==2.16.1->tensorflow) (1.16.0)\n",
      "Requirement already satisfied: grpcio<2.0,>=1.24.3 in c:\\users\\lucas\\appdata\\local\\programs\\python\\python311\\lib\\site-packages (from tensorflow-intel==2.16.1->tensorflow) (1.64.0)\n",
      "Requirement already satisfied: tensorboard<2.17,>=2.16 in c:\\users\\lucas\\appdata\\local\\programs\\python\\python311\\lib\\site-packages (from tensorflow-intel==2.16.1->tensorflow) (2.16.2)\n",
      "Requirement already satisfied: keras>=3.0.0 in c:\\users\\lucas\\appdata\\local\\programs\\python\\python311\\lib\\site-packages (from tensorflow-intel==2.16.1->tensorflow) (3.3.3)\n",
      "Requirement already satisfied: tensorflow-io-gcs-filesystem>=0.23.1 in c:\\users\\lucas\\appdata\\local\\programs\\python\\python311\\lib\\site-packages (from tensorflow-intel==2.16.1->tensorflow) (0.31.0)\n",
      "Requirement already satisfied: numpy<2.0.0,>=1.23.5 in c:\\users\\lucas\\appdata\\local\\programs\\python\\python311\\lib\\site-packages (from tensorflow-intel==2.16.1->tensorflow) (1.24.3)\n",
      "Requirement already satisfied: wheel<1.0,>=0.23.0 in c:\\users\\lucas\\appdata\\local\\programs\\python\\python311\\lib\\site-packages (from astunparse>=1.6.0->tensorflow-intel==2.16.1->tensorflow) (0.43.0)\n",
      "Requirement already satisfied: rich in c:\\users\\lucas\\appdata\\local\\programs\\python\\python311\\lib\\site-packages (from keras>=3.0.0->tensorflow-intel==2.16.1->tensorflow) (13.7.1)\n",
      "Requirement already satisfied: namex in c:\\users\\lucas\\appdata\\local\\programs\\python\\python311\\lib\\site-packages (from keras>=3.0.0->tensorflow-intel==2.16.1->tensorflow) (0.0.8)\n",
      "Requirement already satisfied: optree in c:\\users\\lucas\\appdata\\local\\programs\\python\\python311\\lib\\site-packages (from keras>=3.0.0->tensorflow-intel==2.16.1->tensorflow) (0.11.0)\n",
      "Requirement already satisfied: charset-normalizer<4,>=2 in c:\\users\\lucas\\appdata\\local\\programs\\python\\python311\\lib\\site-packages (from requests<3,>=2.21.0->tensorflow-intel==2.16.1->tensorflow) (3.3.2)\n",
      "Requirement already satisfied: idna<4,>=2.5 in c:\\users\\lucas\\appdata\\local\\programs\\python\\python311\\lib\\site-packages (from requests<3,>=2.21.0->tensorflow-intel==2.16.1->tensorflow) (3.7)\n",
      "Requirement already satisfied: urllib3<3,>=1.21.1 in c:\\users\\lucas\\appdata\\local\\programs\\python\\python311\\lib\\site-packages (from requests<3,>=2.21.0->tensorflow-intel==2.16.1->tensorflow) (2.2.1)\n",
      "Requirement already satisfied: certifi>=2017.4.17 in c:\\users\\lucas\\appdata\\local\\programs\\python\\python311\\lib\\site-packages (from requests<3,>=2.21.0->tensorflow-intel==2.16.1->tensorflow) (2024.2.2)\n",
      "Requirement already satisfied: markdown>=2.6.8 in c:\\users\\lucas\\appdata\\local\\programs\\python\\python311\\lib\\site-packages (from tensorboard<2.17,>=2.16->tensorflow-intel==2.16.1->tensorflow) (3.6)\n",
      "Requirement already satisfied: tensorboard-data-server<0.8.0,>=0.7.0 in c:\\users\\lucas\\appdata\\local\\programs\\python\\python311\\lib\\site-packages (from tensorboard<2.17,>=2.16->tensorflow-intel==2.16.1->tensorflow) (0.7.2)\n",
      "Requirement already satisfied: werkzeug>=1.0.1 in c:\\users\\lucas\\appdata\\local\\programs\\python\\python311\\lib\\site-packages (from tensorboard<2.17,>=2.16->tensorflow-intel==2.16.1->tensorflow) (3.0.3)\n",
      "Requirement already satisfied: MarkupSafe>=2.1.1 in c:\\users\\lucas\\appdata\\local\\programs\\python\\python311\\lib\\site-packages (from werkzeug>=1.0.1->tensorboard<2.17,>=2.16->tensorflow-intel==2.16.1->tensorflow) (2.1.5)\n",
      "Requirement already satisfied: markdown-it-py>=2.2.0 in c:\\users\\lucas\\appdata\\local\\programs\\python\\python311\\lib\\site-packages (from rich->keras>=3.0.0->tensorflow-intel==2.16.1->tensorflow) (3.0.0)\n",
      "Requirement already satisfied: pygments<3.0.0,>=2.13.0 in c:\\users\\lucas\\appdata\\roaming\\python\\python311\\site-packages (from rich->keras>=3.0.0->tensorflow-intel==2.16.1->tensorflow) (2.16.1)\n",
      "Requirement already satisfied: mdurl~=0.1 in c:\\users\\lucas\\appdata\\local\\programs\\python\\python311\\lib\\site-packages (from markdown-it-py>=2.2.0->rich->keras>=3.0.0->tensorflow-intel==2.16.1->tensorflow) (0.1.2)\n"
     ]
    }
   ],
   "source": [
    "!pip install --upgrade tensorflow"
   ]
  },
  {
   "cell_type": "code",
   "execution_count": 4,
   "metadata": {},
   "outputs": [],
   "source": [
    "import numpy as np\n",
    "import pandas as pd\n",
    "import tensorflow as tf\n",
    "from tensorflow.keras import layers\n",
    "from tensorflow.keras.callbacks import EarlyStopping\n",
    "from sklearn.metrics import classification_report, roc_auc_score\n",
    "from gensim.models import Word2Vec\n",
    "from nltk.stem import RSLPStemmer\n",
    "import re\n",
    "import os\n",
    "import unicodedata\n",
    "from zipfile import ZipFile\n",
    "import nltk\n",
    "import xml.etree.ElementTree as ET\n",
    "from sklearn.preprocessing import LabelEncoder\n",
    "from sklearn.model_selection import train_test_split\n",
    "from tensorflow.keras.preprocessing.sequence import pad_sequences"
   ]
  },
  {
   "cell_type": "markdown",
   "metadata": {},
   "source": [
    "## Carregamento dos Dados e Pré-processamento\n",
    "\n",
    "### Carregar e descompactar os arquivos"
   ]
  },
  {
   "cell_type": "code",
   "execution_count": null,
   "metadata": {},
   "outputs": [],
   "source": [
    "def criar_diretorios(caminho):\n",
    "    # Extrai o diretório do caminho fornecido\n",
    "    diretorio = os.path.dirname(caminho)\n",
    "    \n",
    "    # Cria os diretórios se eles não existirem\n",
    "    if not os.path.exists(diretorio):\n",
    "        os.makedirs(diretorio)\n",
    "        print(f\"{diretorio} criado com sucesso\")\n",
    "    else:\n",
    "        print(f\"{diretorio} já existe\")\n",
    "        \n",
    "    return caminho"
   ]
  },
  {
   "cell_type": "code",
   "execution_count": 5,
   "metadata": {},
   "outputs": [
    {
     "name": "stdout",
     "output_type": "stream",
     "text": [
      "Os arquivos já foram descompactados.\n"
     ]
    }
   ],
   "source": [
    "\n",
    "\n",
    "def unzip(path, pathFolder):\n",
    "    \"\"\"\n",
    "    Descompacta a base de dados de notícias.\n",
    "    \n",
    "    Args:\n",
    "    path (str): Caminho para o arquivo zip.\n",
    "    pathFolder (str): Caminho para a pasta onde os arquivos serão extraídos.\n",
    "    \"\"\"\n",
    "    # Abre o arquivo zip para leitura\n",
    "    with ZipFile(path, 'r') as z:\n",
    "        # Verifica se a pasta de destino já existe\n",
    "        if not os.path.isdir(pathFolder):\n",
    "            # Extrai todos os arquivos para a pasta de destino\n",
    "            z.extractall(pathFolder)\n",
    "        else:\n",
    "            print(\"Os arquivos já foram descompactados.\")\n",
    "\n",
    "# Caminho dos arquivos extraídos do Kaggle\n",
    "path_dataset = r'af_inteligencia_artificial\\files\\classificao-de-notcias.zip'\n",
    "path_db = r'db'\n",
    "\n",
    "# Caminho dos arquivos que serão utilizados para a atividade\n",
    "path_train = r'db\\arquivos_competicao\\arquivos_competicao\\train.csv'\n",
    "path_pred = r'db\\arquivos_competicao\\arquivos_competicao\\test.csv'\n",
    "path_news = r'db\\arquivos_competicao\\arquivos_competicao\\news'\n",
    "\n",
    "# Antes de descompactar os arquivos, valida se já foram descompactados antes\n",
    "if not os.path.isdir(path_news):\n",
    "    # Verifica se o arquivo zip existe\n",
    "    if os.path.isfile(path_dataset):\n",
    "        unzip(path_dataset, path_db)\n",
    "    else:\n",
    "        print(f\"Arquivo não encontrado: {path_dataset}\")\n",
    "else:\n",
    "    print(\"Os arquivos já foram descompactados.\")\n",
    "\n"
   ]
  },
  {
   "cell_type": "markdown",
   "metadata": {},
   "source": [
    "# Carregamento dos dados de treino e teste\n",
    "Carregamos os arquivos CSV de treino e teste, ordenando pela coluna ID.\n"
   ]
  },
  {
   "cell_type": "code",
   "execution_count": 6,
   "metadata": {},
   "outputs": [],
   "source": [
    "# Carregamento dos dados de treino e teste\n",
    "df_train = pd.read_csv(path_train)\n",
    "df_test = pd.read_csv(path_pred)\n",
    "\n",
    "# Ordena os dataframes df_train e df_test pela coluna ID\n",
    "df_train = df_train.sort_values(['ID'])\n",
    "df_test = df_test.sort_values(['ID'])"
   ]
  },
  {
   "cell_type": "markdown",
   "metadata": {},
   "source": [
    "# Extração dos dados XML\n",
    "\n",
    "- A função extract_xml_text extrai o texto e o título dos arquivos XML. Atualizamos os dataframes df_train e df_test com esses dados.\n"
   ]
  },
  {
   "cell_type": "code",
   "execution_count": 7,
   "metadata": {},
   "outputs": [
    {
     "name": "stderr",
     "output_type": "stream",
     "text": [
      "C:\\Users\\Lucas\\AppData\\Local\\Temp\\ipykernel_14556\\271242300.py:29: FutureWarning: Setting an item of incompatible dtype is deprecated and will raise in a future error of pandas. Value ' FUTURO OT DEZ/96 CAI PARA 102,23 CONTRA 102,52[PT] ' has dtype incompatible with float64, please explicitly cast to a compatible dtype first.\n",
      "  df_train.at[idx, 'TITULO'] = titulo\n",
      "C:\\Users\\Lucas\\AppData\\Local\\Temp\\ipykernel_14556\\271242300.py:30: FutureWarning: Setting an item of incompatible dtype is deprecated and will raise in a future error of pandas. Value ' *Futuro (BDPOTZ6)Dez/96 102,23 vs 102,52 no fecho anterior *Futuro Bono Dez/96 (MFFZ6)106,95 vs 107,31 no fecho anterior   - Lisboa Editorial, 351-1-3150035   (c) Reuters Limited 1996. ' has dtype incompatible with float64, please explicitly cast to a compatible dtype first.\n",
      "  df_train.at[idx, 'TEXTO'] = texto\n",
      "C:\\Users\\Lucas\\AppData\\Local\\Temp\\ipykernel_14556\\271242300.py:40: FutureWarning: Setting an item of incompatible dtype is deprecated and will raise in a future error of pandas. Value ' PROVÁVEL INFLAÇÃO RETOME TENDENCIA DESCENDENTE-INE. ' has dtype incompatible with float64, please explicitly cast to a compatible dtype first.\n",
      "  df_test.at[idx, 'TITULO'] = titulo\n",
      "C:\\Users\\Lucas\\AppData\\Local\\Temp\\ipykernel_14556\\271242300.py:41: FutureWarning: Setting an item of incompatible dtype is deprecated and will raise in a future error of pandas. Value ' LISBOA 12 Set (Reuter) - A inflação deverá retomar uma trajectória descendente, logo que cessem os comportamentos anómalos de alguns bens alimentares, refere o Instituto Nacional de Estatística (INE), na sua síntese mensal de Agosto.   \"É bem provável, por isso, provável que a inflação retome uma trajectória descendente, logo que cessem os referidos comportamentos anómalos\", afirma o INE.   \"A aceleração do crescimento dos preços no consumidor continua a resultar do comportamento anómalo de alguns bens alimentares\", refere o INE.   \"Assim, o índice resultante da exclusão dos preços dos bens alimentares transaccionáveis apresentou uma variação homóloga relativamente estável, em torno de 3,5 pct, desde o início de 1996, mantendo ainda este valor em Julho\", explica o INE.   \"A variação homóloga dos bens transaccionáveis não alimentares situou-se em apenas 1,7 pct em Julho, o seu nível mais baixo desde que há índice de preços no consumidor para o território do Continente, enquanto a variação homóloga dos bens não transaccionáveis se mantém estável, em torno de 4,5 pct\", adianta.   A conclusão de que a inflação possa retomar uma tendência descendente baseia-se, segundo o INE, tanto nas expectativas empresariais como na evolução dos preços de produção em Portugal e nos seus principais países fornecedores, num quadro geral em que o escudo permanece relativamente estável.   Em Julho passado, os preços no consumidor subiram 0,2 pct, situando a inflação homóloga em 3,8 pct e a média anual em 3,4 pct.   O primeiro-ministro disse que a inflação média anual, em Agosto, deve cair para 3,3 pct, permitindo alcançar os três pct no final de 1997, refere o Diário Económico.   Uma poll de analistas contactados pela Reuters, apontava para que a variação mensal do índice de preços no consumidor (IPC) em Agosto saisse entre 0,1 pct e 0,3 pct contra 0,2 pct em Julho.   A verificar-se uma inflação mensal de 0,1, 0,2 ou 0,3 a homóloga cairá, respectivamente, para 3,4 pct, 3,5 pct ou 3,6 pct e a média para 3,3 pct.   - Lisboa Editorial, 351-1-3150035 *Os utilizadores de Reuter Terminal devem fazer duplo click em:.   (c) Reuters Limited 1996. ' has dtype incompatible with float64, please explicitly cast to a compatible dtype first.\n",
      "  df_test.at[idx, 'TEXTO'] = texto\n"
     ]
    }
   ],
   "source": [
    "# Definindo a função para extração dos dados XML \n",
    "def extract_xml_text(path_xml):\n",
    "    \"\"\"\n",
    "    Extrai o texto e o título dos arquivos XML.\n",
    "\n",
    "    Args:\n",
    "    path_xml (str): Caminho para o arquivo XML.\n",
    "\n",
    "    Returns:\n",
    "    tuple: Contém o título e o texto do arquivo XML.\n",
    "    \"\"\"\n",
    "    tree = ET.parse(path_xml)\n",
    "    root = tree.getroot()\n",
    "    \n",
    "    # Extraindo o título\n",
    "    headline = root.find('headline').text if root.find('headline') is not None else ''\n",
    "    \n",
    "    # Extraindo os parágrafos\n",
    "    paragraphs = root.findall('.//p')\n",
    "    text = ' '.join([p.text for p in paragraphs if p.text is not None])\n",
    "\n",
    "    return headline, text\n",
    "\n",
    "# Processando os arquivos XML e atualizando o dataframe df_train\n",
    "for idx in df_train.index:\n",
    "    file = df_train.at[idx, 'ID']\n",
    "    path_xml = os.path.join(path_news, file)\n",
    "    titulo, texto = extract_xml_text(path_xml)\n",
    "    df_train.at[idx, 'TITULO'] = titulo\n",
    "    df_train.at[idx, 'TEXTO'] = texto\n",
    "\n",
    "# Reorganiza o dataframe com as colunas desejadas\n",
    "df_train = df_train[['ID', 'TITULO', 'TEXTO', 'Class']]\n",
    "\n",
    "# Processando os arquivos XML e atualizando o dataframe df_test\n",
    "for idx in df_test.index:\n",
    "    file = df_test.at[idx, 'ID']\n",
    "    path_xml = os.path.join(path_news, file)\n",
    "    titulo, texto = extract_xml_text(path_xml)\n",
    "    df_test.at[idx, 'TITULO'] = titulo\n",
    "    df_test.at[idx, 'TEXTO'] = texto\n",
    "\n",
    "# Reorganiza o dataframe com as colunas desejadas\n",
    "df_teste = df_test[['ID', 'TITULO', 'TEXTO']]\n"
   ]
  },
  {
   "cell_type": "markdown",
   "metadata": {},
   "source": [
    "# Definindo funçãio de tratamento de texto\n",
    "\n",
    "utilizando função de tratamento de texto para remover tags html\n",
    "- Removendo stopwords com `nltk.corpus.stopwords.words`\n",
    "- Utilizando método de stemização para extrair os radicais das palavras contidas nas mensagens de texto com `stemmer_method = RSLPStemmer()`"
   ]
  },
  {
   "cell_type": "code",
   "execution_count": 9,
   "metadata": {},
   "outputs": [],
   "source": [
    "def preprocessing_portuguese(text, stemming=False, stopwords=False):\n",
    "    text = text.lower()\n",
    "    nfkd_form = unicodedata.normalize('NFKD', text)\n",
    "    text = u\"\".join([c for c in nfkd_form if not unicodedata.combining(c)])\n",
    "    text = re.sub('<[^<>]+>', \" \", text)\n",
    "    text = re.sub('(http|https)://[^\\s]*', \"<URL>\", text)\n",
    "    text = re.sub('[^\\s]+@[^\\s]+', \"<EMAIL>\", text)\n",
    "    text = re.sub('[^A-Za-z0-9]+', \" \", text)\n",
    "    text = re.sub('[0-9]+.[0-9]+', \"NUMERO\", text)\n",
    "    text = re.sub('[0-9]+,[0-9]+', \"NUMERO\", text)\n",
    "    text = re.sub('[0-9]+', \"NUMERO\", text)\n",
    "    text = ' '.join(text.split())\n",
    "    words = text.split()[0:200]\n",
    "    if stopwords:\n",
    "        words = [w for w in words if not w in nltk.corpus.stopwords.words('portuguese')]\n",
    "    if stemming:\n",
    "        stemmer_method = RSLPStemmer()\n",
    "        words = [stemmer_method.stem(w) for w in words]\n",
    "    words = [w for w in words if len(w) > 1]\n",
    "    text = \" \".join(words)\n",
    "    return text"
   ]
  },
  {
   "cell_type": "markdown",
   "metadata": {},
   "source": [
    "# Aplicando a função e enconding para campo target"
   ]
  },
  {
   "cell_type": "markdown",
   "metadata": {},
   "source": [
    "- utiliando função  preprocessing_portuguese definida anteriormente para tratar os campos de mensagens\n",
    "- usando  labelEncoder para codificar o campo target para valores 0, 1, 2 e 3 com o intuito de representar os elementos da classe em números"
   ]
  },
  {
   "cell_type": "code",
   "execution_count": 10,
   "metadata": {},
   "outputs": [],
   "source": [
    "\n",
    "\n",
    "df_train['TEXTO'] = df_train['TEXTO'].apply(lambda x: preprocessing_portuguese(x, stemming=True, stopwords=True))\n",
    "df_test['TEXTO'] = df_test['TEXTO'].apply(lambda x: preprocessing_portuguese(x, stemming=True, stopwords=True))\n",
    "le = LabelEncoder()\n",
    "df_train['Class'] = le.fit_transform(df_train['Class'])\n"
   ]
  },
  {
   "cell_type": "markdown",
   "metadata": {},
   "source": [
    "### Usando função de split para dividir o dataset de treino em campos de Data e Target\n",
    "\n",
    "Usando 20 porcento do dataset como teste devido a distribução das classes no dataset de treino\n",
    "(algumas classes possuem menos elementos do que as outras)"
   ]
  },
  {
   "cell_type": "code",
   "execution_count": 11,
   "metadata": {},
   "outputs": [],
   "source": [
    "X_train, X_test, y_train, y_test = train_test_split(df_train['TEXTO'],\n",
    "                                                    df_train['Class'],\n",
    "                                                    test_size=0.2,\n",
    "                                                    random_state=42,\n",
    "                                                    stratify=df_train['Class'])\n"
   ]
  },
  {
   "cell_type": "markdown",
   "metadata": {},
   "source": [
    "# Definindo newDatasetTrain\n",
    "\n",
    "- esse vetor será utilizado para treinar as embeddings com nossa base de treino"
   ]
  },
  {
   "cell_type": "code",
   "execution_count": 12,
   "metadata": {},
   "outputs": [
    {
     "name": "stdout",
     "output_type": "stream",
     "text": [
      "Primeira mensagem de texto: \n",
      "['futur', 'bdpotznumer', 'dez', 'numer', 'numer', 'vs', 'numer', 'fech', 'anteri', 'futur', 'bon', 'dez', 'numer', 'mffznumer', 'numer', 'vs', 'numer', 'fech', 'anteri', 'lisbo', 'editor', 'numer', 'numer', 'reut', 'limited', 'numer']\n"
     ]
    }
   ],
   "source": [
    "newDatasetTrain = []\n",
    "for msg in df_train['TEXTO']:\n",
    "    newDatasetTrain.append( msg.split() )\n",
    "\n",
    "print(\"Primeira mensagem de texto: \")\n",
    "print( newDatasetTrain[0] )"
   ]
  },
  {
   "cell_type": "code",
   "execution_count": 13,
   "metadata": {},
   "outputs": [],
   "source": [
    "dataset_train, dataset_test = X_train, X_test\n",
    "Y_train, Y_test = y_train, y_test"
   ]
  },
  {
   "cell_type": "code",
   "execution_count": 14,
   "metadata": {},
   "outputs": [
    {
     "name": "stdout",
     "output_type": "stream",
     "text": [
      "Qtd. dados de treinamento: 2224 (79.97%)\n",
      "Qtd. de dados de teste: 557 (20.03%)\n"
     ]
    }
   ],
   "source": [
    "print('Qtd. dados de treinamento: %d (%1.2f%%)' %(dataset_train.shape[0], (dataset_train.shape[0]/df_train.shape[0])*100) )\n",
    "print('Qtd. de dados de teste: %d (%1.2f%%)' %(dataset_test.shape[0], (dataset_test.shape[0]/df_train.shape[0])*100) )"
   ]
  },
  {
   "cell_type": "markdown",
   "metadata": {},
   "source": [
    "# Treinando modelo de embeddings\n",
    "\n",
    "Treinamos o modelo de embeddings conforme os dados presentes na coluna de texto  em df_train que possui os dados tratados de train.csv\n",
    "obtivemos um vocabulário relativamente enchuto, no entanto normalizar o dataset replicando notícias com classes de menor indicência obtivemos dificuldade\n",
    "no treinamento do modelo. Ao que parece foi difícil lidar com o loss ao ajustar ao parâmetro, logo foi optado por utilizar os dados de treino da forma com\n",
    "que foram passados mesmo.\n",
    "\n",
    "\n",
    "- vector_size: Tamanho do vetor de embedding.\n",
    "- window: Tamanho da janela de contexto.\n",
    "- min_count: Frequência mínima para uma palavra ser considerada no treinamento.\n",
    "- workers: Número de threads a serem usadas no treinamento."
   ]
  },
  {
   "cell_type": "code",
   "execution_count": 15,
   "metadata": {},
   "outputs": [
    {
     "name": "stdout",
     "output_type": "stream",
     "text": [
      "Tamanho do vocabulário do modelo:  4599\n"
     ]
    }
   ],
   "source": [
    "from gensim.models import Word2Vec\n",
    "\n",
    "# Treinando o modelo Word2Vec com suas mensagens de texto\n",
    "embedding_model = Word2Vec(sentences=newDatasetTrain, vector_size=200, window=5, min_count=1, workers=4)\n",
    "\n",
    "vocabSize = len(embedding_model.wv)\n",
    "print(\"Tamanho do vocabulário do modelo: \", vocabSize)"
   ]
  },
  {
   "cell_type": "markdown",
   "metadata": {},
   "source": [
    "## Obtendo vetores das palavras"
   ]
  },
  {
   "cell_type": "markdown",
   "metadata": {},
   "source": [
    "### A função getDocvector converte os textos em vetores de embeddings usando o modelo Word2Vec.\n",
    "\n",
    "- model: Modelo Word2Vec treinado.\n",
    "- doc: Documento a ser convertido.\n",
    "- maxLength: Comprimento máximo do documento."
   ]
  },
  {
   "cell_type": "code",
   "execution_count": 20,
   "metadata": {},
   "outputs": [],
   "source": [
    "def getDocvector(model, doc, maxLength = 200):\n",
    "    \"\"\"\n",
    "    Obtem o vetor de cada palavra de um documento e calcula um vetor medio\n",
    "    \"\"\"\n",
    "\n",
    "    ########################## COMPLETE O CÓDIGO AQUI  ########################\n",
    "\n",
    "    firstWord = model.wv.index_to_key[0]\n",
    "    dimEmbedding = model.wv[firstWord].shape[0]\n",
    "\n",
    "    wordVecs = []\n",
    "\n",
    "    for i in range(maxLength):\n",
    "\n",
    "      vecZeros = np.zeros( dimEmbedding )\n",
    "      wordVecs.append( vecZeros )\n",
    "\n",
    "      if i<len(doc):\n",
    "\n",
    "          try:\n",
    "            wordVecs[i] = model.wv[ doc[i] ]\n",
    "          except:\n",
    "            pass\n",
    "\n",
    "    # converte a lista em matriz\n",
    "    wordVecs = np.array(wordVecs)\n",
    "\n",
    "    ##########################################################################\n",
    "\n",
    "    return wordVecs\n"
   ]
  },
  {
   "cell_type": "code",
   "execution_count": 21,
   "metadata": {},
   "outputs": [
    {
     "name": "stdout",
     "output_type": "stream",
     "text": [
      "Dimensao de X_train:  (2224, 200, 200)\n",
      "Dimensao de X_test:  (557, 200, 200)\n"
     ]
    }
   ],
   "source": [
    "X_train_array = []\n",
    "for doc in X_train:\n",
    "    X_train_array.append( getDocvector(embedding_model, doc.split(), maxLength = 200) )\n",
    "    \n",
    "X_test_array = []\n",
    "for doc in X_test:\n",
    "    X_test_array.append( getDocvector(embedding_model, doc.split(), maxLength = 200) )\n",
    "    \n",
    "X_train_array = np.array(X_train_array)\n",
    "X_test_array = np.array(X_test_array)    \n",
    "Y_train = np.array(Y_train)   \n",
    "    \n",
    "print(\"Dimensao de X_train: \", X_train_array.shape)\n",
    "print(\"Dimensao de X_test: \", X_test_array.shape)\n",
    "\n",
    "\n"
   ]
  },
  {
   "cell_type": "markdown",
   "metadata": {},
   "source": [
    "# Treinamento do Modelo LSTM\n",
    "### Configuração do Modelo LSTM\n",
    "Configuramos um modelo LSTM com uma camada intermediária LSTM e uma camada de saída Dense com ativação softmax e sparse_categorical_crossentropy para problemas multiclasse.\n",
    "\n",
    "- dimInput: Dimensão da entrada.\n",
    "- units: Número de unidades na camada LSTM.\n",
    "- activation: Função de ativação da camada Dense."
   ]
  },
  {
   "cell_type": "code",
   "execution_count": 23,
   "metadata": {},
   "outputs": [
    {
     "name": "stdout",
     "output_type": "stream",
     "text": [
      "LSTM configurada com sucesso\n"
     ]
    },
    {
     "name": "stderr",
     "output_type": "stream",
     "text": [
      "c:\\Users\\Lucas\\AppData\\Local\\Programs\\Python\\Python311\\Lib\\site-packages\\keras\\src\\layers\\rnn\\rnn.py:204: UserWarning: Do not pass an `input_shape`/`input_dim` argument to a layer. When using Sequential models, prefer using an `Input(shape)` object as the first layer in the model instead.\n",
      "  super().__init__(**kwargs)\n"
     ]
    },
    {
     "data": {
      "text/html": [
       "<pre style=\"white-space:pre;overflow-x:auto;line-height:normal;font-family:Menlo,'DejaVu Sans Mono',consolas,'Courier New',monospace\"><span style=\"font-weight: bold\">Model: \"sequential\"</span>\n",
       "</pre>\n"
      ],
      "text/plain": [
       "\u001b[1mModel: \"sequential\"\u001b[0m\n"
      ]
     },
     "metadata": {},
     "output_type": "display_data"
    },
    {
     "data": {
      "text/html": [
       "<pre style=\"white-space:pre;overflow-x:auto;line-height:normal;font-family:Menlo,'DejaVu Sans Mono',consolas,'Courier New',monospace\">┏━━━━━━━━━━━━━━━━━━━━━━━━━━━━━━━━━┳━━━━━━━━━━━━━━━━━━━━━━━━┳━━━━━━━━━━━━━━━┓\n",
       "┃<span style=\"font-weight: bold\"> Layer (type)                    </span>┃<span style=\"font-weight: bold\"> Output Shape           </span>┃<span style=\"font-weight: bold\">       Param # </span>┃\n",
       "┡━━━━━━━━━━━━━━━━━━━━━━━━━━━━━━━━━╇━━━━━━━━━━━━━━━━━━━━━━━━╇━━━━━━━━━━━━━━━┩\n",
       "│ lstm (<span style=\"color: #0087ff; text-decoration-color: #0087ff\">LSTM</span>)                     │ (<span style=\"color: #00d7ff; text-decoration-color: #00d7ff\">None</span>, <span style=\"color: #00af00; text-decoration-color: #00af00\">210</span>)            │       <span style=\"color: #00af00; text-decoration-color: #00af00\">345,240</span> │\n",
       "├─────────────────────────────────┼────────────────────────┼───────────────┤\n",
       "│ dense (<span style=\"color: #0087ff; text-decoration-color: #0087ff\">Dense</span>)                   │ (<span style=\"color: #00d7ff; text-decoration-color: #00d7ff\">None</span>, <span style=\"color: #00af00; text-decoration-color: #00af00\">4</span>)              │           <span style=\"color: #00af00; text-decoration-color: #00af00\">844</span> │\n",
       "└─────────────────────────────────┴────────────────────────┴───────────────┘\n",
       "</pre>\n"
      ],
      "text/plain": [
       "┏━━━━━━━━━━━━━━━━━━━━━━━━━━━━━━━━━┳━━━━━━━━━━━━━━━━━━━━━━━━┳━━━━━━━━━━━━━━━┓\n",
       "┃\u001b[1m \u001b[0m\u001b[1mLayer (type)                   \u001b[0m\u001b[1m \u001b[0m┃\u001b[1m \u001b[0m\u001b[1mOutput Shape          \u001b[0m\u001b[1m \u001b[0m┃\u001b[1m \u001b[0m\u001b[1m      Param #\u001b[0m\u001b[1m \u001b[0m┃\n",
       "┡━━━━━━━━━━━━━━━━━━━━━━━━━━━━━━━━━╇━━━━━━━━━━━━━━━━━━━━━━━━╇━━━━━━━━━━━━━━━┩\n",
       "│ lstm (\u001b[38;5;33mLSTM\u001b[0m)                     │ (\u001b[38;5;45mNone\u001b[0m, \u001b[38;5;34m210\u001b[0m)            │       \u001b[38;5;34m345,240\u001b[0m │\n",
       "├─────────────────────────────────┼────────────────────────┼───────────────┤\n",
       "│ dense (\u001b[38;5;33mDense\u001b[0m)                   │ (\u001b[38;5;45mNone\u001b[0m, \u001b[38;5;34m4\u001b[0m)              │           \u001b[38;5;34m844\u001b[0m │\n",
       "└─────────────────────────────────┴────────────────────────┴───────────────┘\n"
      ]
     },
     "metadata": {},
     "output_type": "display_data"
    },
    {
     "data": {
      "text/html": [
       "<pre style=\"white-space:pre;overflow-x:auto;line-height:normal;font-family:Menlo,'DejaVu Sans Mono',consolas,'Courier New',monospace\"><span style=\"font-weight: bold\"> Total params: </span><span style=\"color: #00af00; text-decoration-color: #00af00\">346,084</span> (1.32 MB)\n",
       "</pre>\n"
      ],
      "text/plain": [
       "\u001b[1m Total params: \u001b[0m\u001b[38;5;34m346,084\u001b[0m (1.32 MB)\n"
      ]
     },
     "metadata": {},
     "output_type": "display_data"
    },
    {
     "data": {
      "text/html": [
       "<pre style=\"white-space:pre;overflow-x:auto;line-height:normal;font-family:Menlo,'DejaVu Sans Mono',consolas,'Courier New',monospace\"><span style=\"font-weight: bold\"> Trainable params: </span><span style=\"color: #00af00; text-decoration-color: #00af00\">346,084</span> (1.32 MB)\n",
       "</pre>\n"
      ],
      "text/plain": [
       "\u001b[1m Trainable params: \u001b[0m\u001b[38;5;34m346,084\u001b[0m (1.32 MB)\n"
      ]
     },
     "metadata": {},
     "output_type": "display_data"
    },
    {
     "data": {
      "text/html": [
       "<pre style=\"white-space:pre;overflow-x:auto;line-height:normal;font-family:Menlo,'DejaVu Sans Mono',consolas,'Courier New',monospace\"><span style=\"font-weight: bold\"> Non-trainable params: </span><span style=\"color: #00af00; text-decoration-color: #00af00\">0</span> (0.00 B)\n",
       "</pre>\n"
      ],
      "text/plain": [
       "\u001b[1m Non-trainable params: \u001b[0m\u001b[38;5;34m0\u001b[0m (0.00 B)\n"
      ]
     },
     "metadata": {},
     "output_type": "display_data"
    },
    {
     "name": "stdout",
     "output_type": "stream",
     "text": [
      "None\n"
     ]
    }
   ],
   "source": [
    "\n",
    "import tensorflow as tf\n",
    "from tensorflow import keras\n",
    "from tensorflow.keras import layers\n",
    "\n",
    "\n",
    "firstWord  = embedding_model.wv.index_to_key[0]\n",
    "dimEmbedding = embedding_model.wv[firstWord].shape[0]\n",
    "\n",
    "# defini a dimensão de entrada\n",
    "dimInput = (200, dimEmbedding)\n",
    "\n",
    "model = tf.keras.Sequential()\n",
    "\n",
    "# camada intermediaria\n",
    "model.add( tf.keras.layers.LSTM(\n",
    "    units = 210,\n",
    "    input_shape = dimInput,\n",
    "    return_sequences = False\n",
    ") )\n",
    "\n",
    "# camada de saida\n",
    "model.add( tf.keras.layers.Dense(\n",
    "    units = 4, activation = \"softmax\"\n",
    ")\n",
    ")\n",
    "\n",
    "optimizer = tf.keras.optimizers.Adam(\n",
    "    learning_rate = 0.001\n",
    " )\n",
    "\n",
    "model.compile( optimizer = optimizer,\n",
    "               loss = \"sparse_categorical_crossentropy\",\n",
    "               metrics = [\"accuracy\"]\n",
    "             )\n",
    "\n",
    "\n",
    "print(\"LSTM configurada com sucesso\")\n",
    "\n",
    "# summarize the model\n",
    "print(model.summary())"
   ]
  },
  {
   "cell_type": "markdown",
   "metadata": {},
   "source": [
    "# Treinamento do moelo"
   ]
  },
  {
   "cell_type": "code",
   "execution_count": 24,
   "metadata": {},
   "outputs": [
    {
     "name": "stdout",
     "output_type": "stream",
     "text": [
      "Epoch 1/12\n",
      "\u001b[1m15/15\u001b[0m \u001b[32m━━━━━━━━━━━━━━━━━━━━\u001b[0m\u001b[37m\u001b[0m \u001b[1m7s\u001b[0m 365ms/step - accuracy: 0.6221 - loss: 1.2364 - val_accuracy: 0.8135 - val_loss: 0.6538\n",
      "Epoch 2/12\n",
      "\u001b[1m15/15\u001b[0m \u001b[32m━━━━━━━━━━━━━━━━━━━━\u001b[0m\u001b[37m\u001b[0m \u001b[1m5s\u001b[0m 330ms/step - accuracy: 0.7827 - loss: 0.6426 - val_accuracy: 0.8180 - val_loss: 0.6253\n",
      "Epoch 3/12\n",
      "\u001b[1m15/15\u001b[0m \u001b[32m━━━━━━━━━━━━━━━━━━━━\u001b[0m\u001b[37m\u001b[0m \u001b[1m5s\u001b[0m 308ms/step - accuracy: 0.7889 - loss: 0.6653 - val_accuracy: 0.8180 - val_loss: 0.6098\n",
      "Epoch 4/12\n",
      "\u001b[1m15/15\u001b[0m \u001b[32m━━━━━━━━━━━━━━━━━━━━\u001b[0m\u001b[37m\u001b[0m \u001b[1m5s\u001b[0m 309ms/step - accuracy: 0.7996 - loss: 0.6421 - val_accuracy: 0.8157 - val_loss: 0.6355\n",
      "Epoch 5/12\n",
      "\u001b[1m15/15\u001b[0m \u001b[32m━━━━━━━━━━━━━━━━━━━━\u001b[0m\u001b[37m\u001b[0m \u001b[1m5s\u001b[0m 340ms/step - accuracy: 0.8025 - loss: 0.6420 - val_accuracy: 0.8157 - val_loss: 0.6146\n",
      "Epoch 6/12\n",
      "\u001b[1m15/15\u001b[0m \u001b[32m━━━━━━━━━━━━━━━━━━━━\u001b[0m\u001b[37m\u001b[0m \u001b[1m4s\u001b[0m 297ms/step - accuracy: 0.7876 - loss: 0.6612 - val_accuracy: 0.8180 - val_loss: 0.6007\n",
      "Epoch 7/12\n",
      "\u001b[1m15/15\u001b[0m \u001b[32m━━━━━━━━━━━━━━━━━━━━\u001b[0m\u001b[37m\u001b[0m \u001b[1m5s\u001b[0m 301ms/step - accuracy: 0.8003 - loss: 0.6191 - val_accuracy: 0.8180 - val_loss: 0.6079\n",
      "Epoch 8/12\n",
      "\u001b[1m15/15\u001b[0m \u001b[32m━━━━━━━━━━━━━━━━━━━━\u001b[0m\u001b[37m\u001b[0m \u001b[1m4s\u001b[0m 297ms/step - accuracy: 0.7885 - loss: 0.6388 - val_accuracy: 0.8180 - val_loss: 0.6009\n",
      "Epoch 9/12\n",
      "\u001b[1m15/15\u001b[0m \u001b[32m━━━━━━━━━━━━━━━━━━━━\u001b[0m\u001b[37m\u001b[0m \u001b[1m5s\u001b[0m 304ms/step - accuracy: 0.7979 - loss: 0.6205 - val_accuracy: 0.8180 - val_loss: 0.6088\n",
      "Epoch 10/12\n",
      "\u001b[1m15/15\u001b[0m \u001b[32m━━━━━━━━━━━━━━━━━━━━\u001b[0m\u001b[37m\u001b[0m \u001b[1m4s\u001b[0m 289ms/step - accuracy: 0.7915 - loss: 0.6426 - val_accuracy: 0.8180 - val_loss: 0.6030\n",
      "Epoch 11/12\n",
      "\u001b[1m15/15\u001b[0m \u001b[32m━━━━━━━━━━━━━━━━━━━━\u001b[0m\u001b[37m\u001b[0m \u001b[1m5s\u001b[0m 326ms/step - accuracy: 0.7764 - loss: 0.6610 - val_accuracy: 0.8180 - val_loss: 0.5990\n",
      "Epoch 12/12\n",
      "\u001b[1m15/15\u001b[0m \u001b[32m━━━━━━━━━━━━━━━━━━━━\u001b[0m\u001b[37m\u001b[0m \u001b[1m4s\u001b[0m 287ms/step - accuracy: 0.7896 - loss: 0.6544 - val_accuracy: 0.8180 - val_loss: 0.6049\n"
     ]
    }
   ],
   "source": [
    "\n",
    "history = model.fit( X_train_array, Y_train,\n",
    "                     epochs = 12,\n",
    "                     validation_split = 0.2,\n",
    "                     batch_size = 120)"
   ]
  },
  {
   "cell_type": "markdown",
   "metadata": {},
   "source": [
    "## Avaliação do Modelo\n",
    "Plot de curva de loss para validação do modelo"
   ]
  },
  {
   "cell_type": "code",
   "execution_count": 25,
   "metadata": {},
   "outputs": [
    {
     "data": {
      "image/png": "[encoded data removed]",
      "text/plain": [
       "<Figure size 640x480 with 1 Axes>"
      ]
     },
     "metadata": {},
     "output_type": "display_data"
    }
   ],
   "source": [
    "import matplotlib.pyplot as plt\n",
    "import pandas as pd\n",
    "df = pd.DataFrame()\n",
    "df['Custo treino'] = history.history['loss']\n",
    "df['Custo validacao'] = history.history['val_loss']\n",
    "\n",
    "df.plot()\n",
    "plt.show()"
   ]
  },
  {
   "cell_type": "markdown",
   "metadata": {},
   "source": [
    "### Codificação dos Textos com o Tokenizer BERT\n",
    "Utilizamos o tokenizer BERT pré-treinado para codificar os textos de `X_train` e `X_test`. O tokenizer transforma o texto em IDs de tokens, aplicando truncamento e padding para garantir que todos os textos tenham o mesmo comprimento.\n",
    "\n",
    "- **tokenizer**: Tokenizer BERT pré-treinado em português.\n",
    "- **texts**: Lista de textos a serem codificados.\n",
    "- **max_length**: Comprimento máximo dos textos após truncamento/padding."
   ]
  },
  {
   "cell_type": "code",
   "execution_count": null,
   "metadata": {},
   "outputs": [],
   "source": [
    "from transformers import BertTokenizer, TFBertModel\n",
    "\n",
    "# Carregar o tokenizer e o modelo BERT pré-treinado em português\n",
    "tokenizer = BertTokenizer.from_pretrained('neuralmind/bert-base-portuguese-cased')\n",
    "bert_model = TFBertModel.from_pretrained('neuralmind/bert-base-portuguese-cased')\n"
   ]
  },
  {
   "cell_type": "markdown",
   "metadata": {},
   "source": [
    "###  Obtenção das Embeddings BERT\n",
    "Utilizamos o modelo BERT pré-treinado para obter as embeddings dos textos codificados. A função `get_embeddings_in_batches` processa os textos em lotes para obter as embeddings de forma eficiente.\n",
    "\n",
    "- **input_ids**: IDs dos tokens codificados.\n",
    "- **attention_mask**: Máscara de atenção para os tokens.\n",
    "- **model**: Modelo BERT pré-treinado.\n",
    "- **batch_size**: Tamanho dos lotes para processamento.\n",
    "\n"
   ]
  },
  {
   "cell_type": "code",
   "execution_count": 29,
   "metadata": {},
   "outputs": [],
   "source": [
    "def encode_texts(texts, tokenizer, max_length=200):\n",
    "    inputs = tokenizer(texts, return_tensors='tf', max_length=max_length, truncation=True, padding=True)\n",
    "    return inputs['input_ids'], inputs['attention_mask']\n",
    "\n",
    "X_train_encodings, X_train_masks = encode_texts(X_train.tolist(), tokenizer)\n",
    "X_test_encodings, X_test_masks = encode_texts(X_test.tolist(), tokenizer)\n"
   ]
  },
  {
   "cell_type": "code",
   "execution_count": 30,
   "metadata": {},
   "outputs": [],
   "source": [
    "import tensorflow as tf\n",
    "# Função para obter embeddings em lotes\n",
    "def get_embeddings_in_batches(input_ids, attention_mask, model, batch_size=32):\n",
    "    num_samples = input_ids.shape[0]\n",
    "    embeddings = []\n",
    "    for start in range(0, num_samples, batch_size):\n",
    "        end = min(start + batch_size, num_samples)\n",
    "        batch_input_ids = input_ids[start:end]\n",
    "        batch_attention_mask = attention_mask[start:end]\n",
    "        outputs = model(batch_input_ids, attention_mask=batch_attention_mask)\n",
    "        embeddings.append(outputs.last_hidden_state)\n",
    "    return tf.concat(embeddings, axis=0)\n"
   ]
  },
  {
   "cell_type": "markdown",
   "metadata": {},
   "source": [
    "# Obter os embeddings BERT dos textos codificados"
   ]
  },
  {
   "cell_type": "code",
   "execution_count": 31,
   "metadata": {},
   "outputs": [
    {
     "name": "stdout",
     "output_type": "stream",
     "text": [
      "Dimensao de X_train_embeddings:  (2224, 200, 768)\n",
      "Dimensao de X_test_embeddings:  (557, 200, 768)\n"
     ]
    }
   ],
   "source": [
    "X_train_embeddings = get_embeddings_in_batches(X_train_encodings, X_train_masks, bert_model, batch_size=32)\n",
    "X_test_embeddings = get_embeddings_in_batches(X_test_encodings, X_test_masks, bert_model, batch_size=32)\n",
    "print(\"Dimensao de X_train_embeddings: \", X_train_embeddings.shape)\n",
    "print(\"Dimensao de X_test_embeddings: \", X_test_embeddings.shape)"
   ]
  },
  {
   "cell_type": "markdown",
   "metadata": {},
   "source": [
    "### Configuração do Modelo LSTM\n",
    "Configuramos um modelo LSTM com uma camada intermediária LSTM e uma camada de saída Dense com ativação softmax. O modelo é compilado usando o otimizador Adam e a função de perda `sparse_categorical_crossentropy`.\n",
    "\n",
    "- **input_shape**: Forma da entrada para o modelo (dimensões das embeddings BERT).\n",
    "- **units**: Número de unidades na camada LSTM.\n",
    "- **activation**: Função de ativação da camada Dense de saída."
   ]
  },
  {
   "cell_type": "code",
   "execution_count": 36,
   "metadata": {},
   "outputs": [
    {
     "name": "stdout",
     "output_type": "stream",
     "text": [
      "LSTM configurada com sucesso\n"
     ]
    },
    {
     "data": {
      "text/html": [
       "<pre style=\"white-space:pre;overflow-x:auto;line-height:normal;font-family:Menlo,'DejaVu Sans Mono',consolas,'Courier New',monospace\"><span style=\"font-weight: bold\">Model: \"functional_3\"</span>\n",
       "</pre>\n"
      ],
      "text/plain": [
       "\u001b[1mModel: \"functional_3\"\u001b[0m\n"
      ]
     },
     "metadata": {},
     "output_type": "display_data"
    },
    {
     "data": {
      "text/html": [
       "<pre style=\"white-space:pre;overflow-x:auto;line-height:normal;font-family:Menlo,'DejaVu Sans Mono',consolas,'Courier New',monospace\">┏━━━━━━━━━━━━━━━━━━━━━━━━━━━━━━━━━┳━━━━━━━━━━━━━━━━━━━━━━━━┳━━━━━━━━━━━━━━━┓\n",
       "┃<span style=\"font-weight: bold\"> Layer (type)                    </span>┃<span style=\"font-weight: bold\"> Output Shape           </span>┃<span style=\"font-weight: bold\">       Param # </span>┃\n",
       "┡━━━━━━━━━━━━━━━━━━━━━━━━━━━━━━━━━╇━━━━━━━━━━━━━━━━━━━━━━━━╇━━━━━━━━━━━━━━━┩\n",
       "│ input_layer_5 (<span style=\"color: #0087ff; text-decoration-color: #0087ff\">InputLayer</span>)      │ (<span style=\"color: #00d7ff; text-decoration-color: #00d7ff\">None</span>, <span style=\"color: #00af00; text-decoration-color: #00af00\">200</span>, <span style=\"color: #00af00; text-decoration-color: #00af00\">768</span>)       │             <span style=\"color: #00af00; text-decoration-color: #00af00\">0</span> │\n",
       "├─────────────────────────────────┼────────────────────────┼───────────────┤\n",
       "│ lstm_5 (<span style=\"color: #0087ff; text-decoration-color: #0087ff\">LSTM</span>)                   │ (<span style=\"color: #00d7ff; text-decoration-color: #00d7ff\">None</span>, <span style=\"color: #00af00; text-decoration-color: #00af00\">210</span>)            │       <span style=\"color: #00af00; text-decoration-color: #00af00\">822,360</span> │\n",
       "├─────────────────────────────────┼────────────────────────┼───────────────┤\n",
       "│ dense_5 (<span style=\"color: #0087ff; text-decoration-color: #0087ff\">Dense</span>)                 │ (<span style=\"color: #00d7ff; text-decoration-color: #00d7ff\">None</span>, <span style=\"color: #00af00; text-decoration-color: #00af00\">4</span>)              │           <span style=\"color: #00af00; text-decoration-color: #00af00\">844</span> │\n",
       "└─────────────────────────────────┴────────────────────────┴───────────────┘\n",
       "</pre>\n"
      ],
      "text/plain": [
       "┏━━━━━━━━━━━━━━━━━━━━━━━━━━━━━━━━━┳━━━━━━━━━━━━━━━━━━━━━━━━┳━━━━━━━━━━━━━━━┓\n",
       "┃\u001b[1m \u001b[0m\u001b[1mLayer (type)                   \u001b[0m\u001b[1m \u001b[0m┃\u001b[1m \u001b[0m\u001b[1mOutput Shape          \u001b[0m\u001b[1m \u001b[0m┃\u001b[1m \u001b[0m\u001b[1m      Param #\u001b[0m\u001b[1m \u001b[0m┃\n",
       "┡━━━━━━━━━━━━━━━━━━━━━━━━━━━━━━━━━╇━━━━━━━━━━━━━━━━━━━━━━━━╇━━━━━━━━━━━━━━━┩\n",
       "│ input_layer_5 (\u001b[38;5;33mInputLayer\u001b[0m)      │ (\u001b[38;5;45mNone\u001b[0m, \u001b[38;5;34m200\u001b[0m, \u001b[38;5;34m768\u001b[0m)       │             \u001b[38;5;34m0\u001b[0m │\n",
       "├─────────────────────────────────┼────────────────────────┼───────────────┤\n",
       "│ lstm_5 (\u001b[38;5;33mLSTM\u001b[0m)                   │ (\u001b[38;5;45mNone\u001b[0m, \u001b[38;5;34m210\u001b[0m)            │       \u001b[38;5;34m822,360\u001b[0m │\n",
       "├─────────────────────────────────┼────────────────────────┼───────────────┤\n",
       "│ dense_5 (\u001b[38;5;33mDense\u001b[0m)                 │ (\u001b[38;5;45mNone\u001b[0m, \u001b[38;5;34m4\u001b[0m)              │           \u001b[38;5;34m844\u001b[0m │\n",
       "└─────────────────────────────────┴────────────────────────┴───────────────┘\n"
      ]
     },
     "metadata": {},
     "output_type": "display_data"
    },
    {
     "data": {
      "text/html": [
       "<pre style=\"white-space:pre;overflow-x:auto;line-height:normal;font-family:Menlo,'DejaVu Sans Mono',consolas,'Courier New',monospace\"><span style=\"font-weight: bold\"> Total params: </span><span style=\"color: #00af00; text-decoration-color: #00af00\">823,204</span> (3.14 MB)\n",
       "</pre>\n"
      ],
      "text/plain": [
       "\u001b[1m Total params: \u001b[0m\u001b[38;5;34m823,204\u001b[0m (3.14 MB)\n"
      ]
     },
     "metadata": {},
     "output_type": "display_data"
    },
    {
     "data": {
      "text/html": [
       "<pre style=\"white-space:pre;overflow-x:auto;line-height:normal;font-family:Menlo,'DejaVu Sans Mono',consolas,'Courier New',monospace\"><span style=\"font-weight: bold\"> Trainable params: </span><span style=\"color: #00af00; text-decoration-color: #00af00\">823,204</span> (3.14 MB)\n",
       "</pre>\n"
      ],
      "text/plain": [
       "\u001b[1m Trainable params: \u001b[0m\u001b[38;5;34m823,204\u001b[0m (3.14 MB)\n"
      ]
     },
     "metadata": {},
     "output_type": "display_data"
    },
    {
     "data": {
      "text/html": [
       "<pre style=\"white-space:pre;overflow-x:auto;line-height:normal;font-family:Menlo,'DejaVu Sans Mono',consolas,'Courier New',monospace\"><span style=\"font-weight: bold\"> Non-trainable params: </span><span style=\"color: #00af00; text-decoration-color: #00af00\">0</span> (0.00 B)\n",
       "</pre>\n"
      ],
      "text/plain": [
       "\u001b[1m Non-trainable params: \u001b[0m\u001b[38;5;34m0\u001b[0m (0.00 B)\n"
      ]
     },
     "metadata": {},
     "output_type": "display_data"
    },
    {
     "name": "stdout",
     "output_type": "stream",
     "text": [
      "None\n"
     ]
    }
   ],
   "source": [
    "from tensorflow.keras import layers, Model\n",
    "input_shape = X_train_embeddings.shape[1:]\n",
    "\n",
    "input_layer = layers.Input(shape=input_shape)\n",
    "lstm_layer = layers.LSTM(210, return_sequences=False)(input_layer)\n",
    "output_layer = layers.Dense(4, activation='softmax')(lstm_layer)\n",
    "\n",
    "model = Model(inputs=input_layer, outputs=output_layer)\n",
    "\n",
    "optimizer = tf.keras.optimizers.Adam(learning_rate=0.0005)\n",
    "model.compile(optimizer=optimizer, loss=\"sparse_categorical_crossentropy\", metrics=[\"accuracy\"])\n",
    "\n",
    "print(\"LSTM configurada com sucesso\")\n",
    "print(model.summary())\n"
   ]
  },
  {
   "cell_type": "code",
   "execution_count": 38,
   "metadata": {},
   "outputs": [
    {
     "name": "stdout",
     "output_type": "stream",
     "text": [
      "Epoch 1/5\n",
      "\u001b[1m15/15\u001b[0m \u001b[32m━━━━━━━━━━━━━━━━━━━━\u001b[0m\u001b[37m\u001b[0m \u001b[1m8s\u001b[0m 429ms/step - accuracy: 0.7254 - loss: 0.8012 - val_accuracy: 0.8652 - val_loss: 0.4874\n",
      "Epoch 2/5\n",
      "\u001b[1m15/15\u001b[0m \u001b[32m━━━━━━━━━━━━━━━━━━━━\u001b[0m\u001b[37m\u001b[0m \u001b[1m7s\u001b[0m 440ms/step - accuracy: 0.8780 - loss: 0.4030 - val_accuracy: 0.8944 - val_loss: 0.2968\n",
      "Epoch 3/5\n",
      "\u001b[1m15/15\u001b[0m \u001b[32m━━━━━━━━━━━━━━━━━━━━\u001b[0m\u001b[37m\u001b[0m \u001b[1m7s\u001b[0m 449ms/step - accuracy: 0.9049 - loss: 0.2824 - val_accuracy: 0.9079 - val_loss: 0.2591\n",
      "Epoch 4/5\n",
      "\u001b[1m15/15\u001b[0m \u001b[32m━━━━━━━━━━━━━━━━━━━━\u001b[0m\u001b[37m\u001b[0m \u001b[1m6s\u001b[0m 411ms/step - accuracy: 0.9145 - loss: 0.2368 - val_accuracy: 0.8921 - val_loss: 0.2972\n",
      "Epoch 5/5\n",
      "\u001b[1m15/15\u001b[0m \u001b[32m━━━━━━━━━━━━━━━━━━━━\u001b[0m\u001b[37m\u001b[0m \u001b[1m6s\u001b[0m 406ms/step - accuracy: 0.9174 - loss: 0.2515 - val_accuracy: 0.9146 - val_loss: 0.2434\n"
     ]
    }
   ],
   "source": [
    "# Treinamento do modelo\n",
    "history = model.fit(X_train_embeddings, Y_train,\n",
    "                    epochs=5,\n",
    "                    validation_split=0.2,\n",
    "                    batch_size=120)"
   ]
  },
  {
   "cell_type": "markdown",
   "metadata": {},
   "source": [
    "### Avaliação do Modelo\n",
    "A função `predicao` prevê as probabilidades para as classes, gera o relatório de desempenho e calcula o AUC. O desempenho do modelo é avaliado no conjunto de teste.\n",
    "\n",
    "- **X_test**: Embeddings BERT dos textos de teste.\n",
    "- **Y_test**: Labels dos textos de teste.\n",
    "- **model**: Modelo treinado."
   ]
  },
  {
   "cell_type": "code",
   "execution_count": 39,
   "metadata": {},
   "outputs": [
    {
     "name": "stdout",
     "output_type": "stream",
     "text": [
      "\u001b[1m18/18\u001b[0m \u001b[32m━━━━━━━━━━━━━━━━━━━━\u001b[0m\u001b[37m\u001b[0m \u001b[1m1s\u001b[0m 61ms/step\n",
      "              precision    recall  f1-score   support\n",
      "\n",
      "           0       0.00      0.00      0.00         7\n",
      "           1       0.79      0.95      0.86       118\n",
      "           2       1.00      0.11      0.20        18\n",
      "           3       0.98      0.97      0.97       414\n",
      "\n",
      "    accuracy                           0.93       557\n",
      "   macro avg       0.69      0.51      0.51       557\n",
      "weighted avg       0.92      0.93      0.91       557\n",
      "\n",
      "AUC: 0.9422\n"
     ]
    },
    {
     "name": "stderr",
     "output_type": "stream",
     "text": [
      "c:\\Users\\Lucas\\AppData\\Local\\Programs\\Python\\Python311\\Lib\\site-packages\\sklearn\\metrics\\_classification.py:1517: UndefinedMetricWarning: Precision is ill-defined and being set to 0.0 in labels with no predicted samples. Use `zero_division` parameter to control this behavior.\n",
      "  _warn_prf(average, modifier, f\"{metric.capitalize()} is\", len(result))\n",
      "c:\\Users\\Lucas\\AppData\\Local\\Programs\\Python\\Python311\\Lib\\site-packages\\sklearn\\metrics\\_classification.py:1517: UndefinedMetricWarning: Precision is ill-defined and being set to 0.0 in labels with no predicted samples. Use `zero_division` parameter to control this behavior.\n",
      "  _warn_prf(average, modifier, f\"{metric.capitalize()} is\", len(result))\n",
      "c:\\Users\\Lucas\\AppData\\Local\\Programs\\Python\\Python311\\Lib\\site-packages\\sklearn\\metrics\\_classification.py:1517: UndefinedMetricWarning: Precision is ill-defined and being set to 0.0 in labels with no predicted samples. Use `zero_division` parameter to control this behavior.\n",
      "  _warn_prf(average, modifier, f\"{metric.capitalize()} is\", len(result))\n"
     ]
    }
   ],
   "source": [
    "from sklearn.metrics import classification_report, roc_auc_score\n",
    "\n",
    "def predicao(X_test, Y_test, model):\n",
    "    # Prever as probabilidades para as classes\n",
    "    y_pred_prob = model.predict(X_test)\n",
    "\n",
    "    # Converter as probabilidades para as classes previstas\n",
    "    y_pred = y_pred_prob.argmax(axis=1)\n",
    "\n",
    "    # Gerar o relatório de desempenho\n",
    "    desempenho = classification_report(Y_test, y_pred)\n",
    "\n",
    "    # Calcular o AUC\n",
    "    auc_score = roc_auc_score(Y_test, y_pred_prob, multi_class='ovr')\n",
    "\n",
    "    return y_pred, desempenho, auc_score\n",
    "\n",
    "##########################################################################\n",
    "\n",
    "y_pred, desempenho, auc_score = predicao(X_test_embeddings, Y_test, model)\n",
    "\n",
    "print(desempenho)\n",
    "print(f\"AUC: {auc_score:.4f}\")\n"
   ]
  },
  {
   "cell_type": "code",
   "execution_count": 41,
   "metadata": {},
   "outputs": [
    {
     "data": {
      "image/png": "[encoded data removed]",
      "text/plain": [
       "<Figure size 640x480 with 1 Axes>"
      ]
     },
     "metadata": {},
     "output_type": "display_data"
    }
   ],
   "source": [
    "import matplotlib.pyplot as plt\n",
    "import pandas as pd\n",
    "df = pd.DataFrame()\n",
    "df['Custo treino'] = history.history['loss']\n",
    "df['Custo validacao'] = history.history['val_loss']\n",
    "df['Accr'] = history.history['accuracy']\n",
    "\n",
    "df.plot()\n",
    "plt.show()"
   ]
  },
  {
   "cell_type": "markdown",
   "metadata": {},
   "source": [
    "Instalando bibliotecas para busca de hiperparâmetros. Inicialmente tentamos buscar por meio do algorítmo genético mas optamos por não utiliza-lo devido ao custo computacional (muita demora)"
   ]
  },
  {
   "cell_type": "code",
   "execution_count": null,
   "metadata": {},
   "outputs": [],
   "source": [
    "%pip install keras-tuner\n",
    "%pip install deap"
   ]
  },
  {
   "cell_type": "markdown",
   "metadata": {},
   "source": [
    "# Construção do Modelo para Keras Tuner\n",
    "Definimos a função `build_model` para construir o modelo com hiperparâmetros variáveis. O Keras Tuner será usado para encontrar os melhores hiperparâmetros para o modelo.\n",
    "\n",
    "- **hp**: Hiperparâmetros a serem ajustados.\n",
    "- **input_shape**: Forma da entrada para o modelo.\n",
    "- **units**: Número de unidades na camada LSTM.\n",
    "- **dropout**: Taxa de dropout para a camada Dropout.\n",
    "- **learning_rate**: Taxa de aprendizado para o otimizador Adam."
   ]
  },
  {
   "cell_type": "code",
   "execution_count": 84,
   "metadata": {},
   "outputs": [],
   "source": [
    "import kerastuner as kt\n",
    "\n",
    "def build_model(hp):\n",
    "    input_shape = X_train_embeddings.shape[1:]\n",
    "    \n",
    "    input_layer = layers.Input(shape=input_shape)\n",
    "    lstm_layer = layers.LSTM(\n",
    "        units=hp.Int('units', min_value=128, max_value=512, step=64),\n",
    "        return_sequences=False\n",
    "    )(input_layer)\n",
    "    dropout_layer = layers.Dropout(\n",
    "        rate=hp.Float('dropout', min_value=0.1, max_value=0.5, step=0.1)\n",
    "    )(lstm_layer)\n",
    "    output_layer = layers.Dense(4, activation='softmax')(dropout_layer)\n",
    "    \n",
    "    model = Model(inputs=input_layer, outputs=output_layer)\n",
    "    \n",
    "    optimizer = tf.keras.optimizers.Adam(\n",
    "        learning_rate=hp.Choice('learning_rate', values=[1e-2, 1e-3, 1e-4])\n",
    "    )\n",
    "    model.compile(optimizer=optimizer, loss=\"sparse_categorical_crossentropy\", metrics=[\"accuracy\"])\n",
    "    \n",
    "    return model\n"
   ]
  },
  {
   "cell_type": "markdown",
   "metadata": {},
   "source": [
    "## Configuração e Execução do Keras Tuner\n",
    "Configuramos o `RandomSearch` do Keras Tuner para realizar a busca pelos melhores hiperparâmetros. Definimos a função de callback `AUCReporter` para monitorar o AUC durante o treinamento.\n",
    "\n",
    "- **tuner**: Objeto Keras Tuner configurado para busca de hiperparâmetros.\n",
    "- **epochs**: Número de épocas para cada execução.\n",
    "- **validation_split**: Proporção dos dados de treino usados para validação.\n",
    "- **callbacks**: Lista de callbacks a serem usados durante o treinamento."
   ]
  },
  {
   "cell_type": "code",
   "execution_count": 86,
   "metadata": {},
   "outputs": [
    {
     "name": "stdout",
     "output_type": "stream",
     "text": [
      "Trial 10 Complete [00h 05m 23s]\n",
      "val_accuracy: 0.934831440448761\n",
      "\n",
      "Best val_accuracy So Far: 0.9370786547660828\n",
      "Total elapsed time: 09h 06m 05s\n"
     ]
    }
   ],
   "source": [
    "tuner = kt.RandomSearch(\n",
    "    build_model,\n",
    "    objective='val_accuracy',\n",
    "    max_trials=10,  # Ajuste conforme necessário\n",
    "    executions_per_trial=2,\n",
    "    directory='my_dir',\n",
    "    project_name='hyperparameter_tuning'\n",
    ")\n",
    "\n",
    "# Função de callback para mostrar o AUC durante o treinamento\n",
    "class AUCReporter(tf.keras.callbacks.Callback):\n",
    "    def __init__(self):\n",
    "        self.best_auc = 0\n",
    "\n",
    "    def on_epoch_end(self, epoch, logs=None):\n",
    "        y_pred = self.model.predict(X_test_embeddings)\n",
    "        auc_score = roc_auc_score(Y_test, y_pred, multi_class='ovr')\n",
    "        if auc_score > self.best_auc:\n",
    "            self.best_auc = auc_score\n",
    "        print(f\"Epoch: {epoch + 1}, Current AUC: {auc_score:.4f}, Best AUC: {self.best_auc:.4f}\")\n",
    "\n",
    "tuner.search(X_train_embeddings, Y_train, epochs=10, validation_split=0.2, callbacks=[AUCReporter()])\n"
   ]
  },
  {
   "cell_type": "markdown",
   "metadata": {},
   "source": [
    "###  Treinamento do Modelo com os Melhores Hiperparâmetros\n",
    "Treinamos o modelo com os melhores hiperparâmetros encontrados pelo Keras Tuner.\n",
    "\n",
    "- **best_hyperparameters**: Melhores hiperparâmetros encontrados pelo Keras Tuner.\n",
    "- **epochs**: Número de épocas de treinamento."
   ]
  },
  {
   "cell_type": "code",
   "execution_count": 87,
   "metadata": {},
   "outputs": [
    {
     "name": "stdout",
     "output_type": "stream",
     "text": [
      "Melhores Hiperparâmetros:\n",
      "{'units': 512, 'dropout': 0.4, 'learning_rate': 0.0001}\n",
      "Epoch 1/10\n",
      "\u001b[1m18/18\u001b[0m \u001b[32m━━━━━━━━━━━━━━━━━━━━\u001b[0m\u001b[37m\u001b[0m \u001b[1m5s\u001b[0m 255ms/step\n",
      "Epoch: 1, Current AUC: 0.9299, Best AUC: 0.9299\n",
      "\u001b[1m56/56\u001b[0m \u001b[32m━━━━━━━━━━━━━━━━━━━━\u001b[0m\u001b[37m\u001b[0m \u001b[1m66s\u001b[0m 1s/step - accuracy: 0.6636 - loss: 0.8337 - val_accuracy: 0.8966 - val_loss: 0.3181\n",
      "Epoch 2/10\n",
      "\u001b[1m18/18\u001b[0m \u001b[32m━━━━━━━━━━━━━━━━━━━━\u001b[0m\u001b[37m\u001b[0m \u001b[1m4s\u001b[0m 222ms/step\n",
      "Epoch: 2, Current AUC: 0.9535, Best AUC: 0.9535\n",
      "\u001b[1m56/56\u001b[0m \u001b[32m━━━━━━━━━━━━━━━━━━━━\u001b[0m\u001b[37m\u001b[0m \u001b[1m63s\u001b[0m 1s/step - accuracy: 0.9134 - loss: 0.2952 - val_accuracy: 0.8719 - val_loss: 0.3194\n",
      "Epoch 3/10\n",
      "\u001b[1m18/18\u001b[0m \u001b[32m━━━━━━━━━━━━━━━━━━━━\u001b[0m\u001b[37m\u001b[0m \u001b[1m4s\u001b[0m 213ms/step\n",
      "Epoch: 3, Current AUC: 0.9540, Best AUC: 0.9540\n",
      "\u001b[1m56/56\u001b[0m \u001b[32m━━━━━━━━━━━━━━━━━━━━\u001b[0m\u001b[37m\u001b[0m \u001b[1m62s\u001b[0m 1s/step - accuracy: 0.9261 - loss: 0.2214 - val_accuracy: 0.9079 - val_loss: 0.2483\n",
      "Epoch 4/10\n",
      "\u001b[1m18/18\u001b[0m \u001b[32m━━━━━━━━━━━━━━━━━━━━\u001b[0m\u001b[37m\u001b[0m \u001b[1m4s\u001b[0m 210ms/step\n",
      "Epoch: 4, Current AUC: 0.9634, Best AUC: 0.9634\n",
      "\u001b[1m56/56\u001b[0m \u001b[32m━━━━━━━━━━━━━━━━━━━━\u001b[0m\u001b[37m\u001b[0m \u001b[1m62s\u001b[0m 1s/step - accuracy: 0.9382 - loss: 0.1900 - val_accuracy: 0.9258 - val_loss: 0.2255\n",
      "Epoch 5/10\n",
      "\u001b[1m18/18\u001b[0m \u001b[32m━━━━━━━━━━━━━━━━━━━━\u001b[0m\u001b[37m\u001b[0m \u001b[1m4s\u001b[0m 226ms/step\n",
      "Epoch: 5, Current AUC: 0.9749, Best AUC: 0.9749\n",
      "\u001b[1m56/56\u001b[0m \u001b[32m━━━━━━━━━━━━━━━━━━━━\u001b[0m\u001b[37m\u001b[0m \u001b[1m62s\u001b[0m 1s/step - accuracy: 0.9453 - loss: 0.1597 - val_accuracy: 0.9258 - val_loss: 0.2253\n",
      "Epoch 6/10\n",
      "\u001b[1m18/18\u001b[0m \u001b[32m━━━━━━━━━━━━━━━━━━━━\u001b[0m\u001b[37m\u001b[0m \u001b[1m4s\u001b[0m 218ms/step\n",
      "Epoch: 6, Current AUC: 0.9731, Best AUC: 0.9749\n",
      "\u001b[1m56/56\u001b[0m \u001b[32m━━━━━━━━━━━━━━━━━━━━\u001b[0m\u001b[37m\u001b[0m \u001b[1m62s\u001b[0m 1s/step - accuracy: 0.9555 - loss: 0.1411 - val_accuracy: 0.9348 - val_loss: 0.2290\n",
      "Epoch 7/10\n",
      "\u001b[1m18/18\u001b[0m \u001b[32m━━━━━━━━━━━━━━━━━━━━\u001b[0m\u001b[37m\u001b[0m \u001b[1m4s\u001b[0m 213ms/step\n",
      "Epoch: 7, Current AUC: 0.9787, Best AUC: 0.9787\n",
      "\u001b[1m56/56\u001b[0m \u001b[32m━━━━━━━━━━━━━━━━━━━━\u001b[0m\u001b[37m\u001b[0m \u001b[1m62s\u001b[0m 1s/step - accuracy: 0.9511 - loss: 0.1286 - val_accuracy: 0.9326 - val_loss: 0.2027\n",
      "Epoch 8/10\n",
      "\u001b[1m18/18\u001b[0m \u001b[32m━━━━━━━━━━━━━━━━━━━━\u001b[0m\u001b[37m\u001b[0m \u001b[1m4s\u001b[0m 214ms/step\n",
      "Epoch: 8, Current AUC: 0.9837, Best AUC: 0.9837\n",
      "\u001b[1m56/56\u001b[0m \u001b[32m━━━━━━━━━━━━━━━━━━━━\u001b[0m\u001b[37m\u001b[0m \u001b[1m63s\u001b[0m 1s/step - accuracy: 0.9623 - loss: 0.1115 - val_accuracy: 0.9348 - val_loss: 0.2034\n",
      "Epoch 9/10\n",
      "\u001b[1m18/18\u001b[0m \u001b[32m━━━━━━━━━━━━━━━━━━━━\u001b[0m\u001b[37m\u001b[0m \u001b[1m4s\u001b[0m 211ms/step\n",
      "Epoch: 9, Current AUC: 0.9817, Best AUC: 0.9837\n",
      "\u001b[1m56/56\u001b[0m \u001b[32m━━━━━━━━━━━━━━━━━━━━\u001b[0m\u001b[37m\u001b[0m \u001b[1m62s\u001b[0m 1s/step - accuracy: 0.9649 - loss: 0.0988 - val_accuracy: 0.9348 - val_loss: 0.2276\n",
      "Epoch 10/10\n",
      "\u001b[1m18/18\u001b[0m \u001b[32m━━━━━━━━━━━━━━━━━━━━\u001b[0m\u001b[37m\u001b[0m \u001b[1m4s\u001b[0m 212ms/step\n",
      "Epoch: 10, Current AUC: 0.9756, Best AUC: 0.9837\n",
      "\u001b[1m56/56\u001b[0m \u001b[32m━━━━━━━━━━━━━━━━━━━━\u001b[0m\u001b[37m\u001b[0m \u001b[1m62s\u001b[0m 1s/step - accuracy: 0.9772 - loss: 0.0713 - val_accuracy: 0.9236 - val_loss: 0.2455\n"
     ]
    }
   ],
   "source": [
    "best_hyperparameters = tuner.get_best_hyperparameters(num_trials=1)[0]\n",
    "best_model = tuner.hypermodel.build(best_hyperparameters)\n",
    "\n",
    "print(\"Melhores Hiperparâmetros:\")\n",
    "print(best_hyperparameters.values)\n",
    "\n",
    "# Treinamento do modelo com os melhores hiperparâmetros\n",
    "history = best_model.fit(X_train_embeddings, Y_train, epochs=10, validation_split=0.2, callbacks=[AUCReporter()])\n"
   ]
  },
  {
   "cell_type": "code",
   "execution_count": 104,
   "metadata": {},
   "outputs": [
    {
     "name": "stdout",
     "output_type": "stream",
     "text": [
      "Tamanho do df_train: 2781\n"
     ]
    }
   ],
   "source": [
    "print(f\"Tamanho do df_train: {len(df_train)}\")"
   ]
  },
  {
   "cell_type": "code",
   "execution_count": 149,
   "metadata": {},
   "outputs": [
    {
     "name": "stdout",
     "output_type": "stream",
     "text": [
      "\u001b[1m1/1\u001b[0m \u001b[32m━━━━━━━━━━━━━━━━━━━━\u001b[0m\u001b[37m\u001b[0m \u001b[1m1s\u001b[0m 538ms/step\n"
     ]
    }
   ],
   "source": [
    "y_train_pred_prob = best_model.predict(X_train_embeddings)"
   ]
  },
  {
   "cell_type": "markdown",
   "metadata": {},
   "source": [
    "### Blocos de código para conferir o propriedade do dataset e das embeddings antes de escrever em um csv"
   ]
  },
  {
   "cell_type": "code",
   "execution_count": 150,
   "metadata": {},
   "outputs": [
    {
     "data": {
      "text/html": [
       "<div>\n",
       "<style scoped>\n",
       "    .dataframe tbody tr th:only-of-type {\n",
       "        vertical-align: middle;\n",
       "    }\n",
       "\n",
       "    .dataframe tbody tr th {\n",
       "        vertical-align: top;\n",
       "    }\n",
       "\n",
       "    .dataframe thead th {\n",
       "        text-align: right;\n",
       "    }\n",
       "</style>\n",
       "<table border=\"1\" class=\"dataframe\">\n",
       "  <thead>\n",
       "    <tr style=\"text-align: right;\">\n",
       "      <th></th>\n",
       "      <th>ID</th>\n",
       "      <th>TITULO</th>\n",
       "      <th>TEXTO</th>\n",
       "    </tr>\n",
       "  </thead>\n",
       "  <tbody>\n",
       "    <tr>\n",
       "      <th>0</th>\n",
       "      <td>news_00001.xml</td>\n",
       "      <td>PROVÁVEL INFLAÇÃO RETOME TENDENCIA DESCENDENT...</td>\n",
       "      <td>lisbo numer set reut inflaca dev retom traject...</td>\n",
       "    </tr>\n",
       "    <tr>\n",
       "      <th>1</th>\n",
       "      <td>news_00004.xml</td>\n",
       "      <td>MMI TRANSACCIONA 178,129 MC, FUTUROS FAZEM 6 ...</td>\n",
       "      <td>lisbo numer set reut merc monetari interbancar...</td>\n",
       "    </tr>\n",
       "    <tr>\n",
       "      <th>2</th>\n",
       "      <td>news_00005.xml</td>\n",
       "      <td>ACÇÕES SEGUEM POUCO VOLÁTEIS, APATIA DEVE MAN...</td>\n",
       "      <td>lisbo numer out reut acco continu futur sobr p...</td>\n",
       "    </tr>\n",
       "    <tr>\n",
       "      <th>3</th>\n",
       "      <td>news_00011.xml</td>\n",
       "      <td>ESCUDO SEGUE ESTÁVEL E APÁTICO NA MEIA SESSÃO.</td>\n",
       "      <td>escud segu relativ estavel mei sessa muit inte...</td>\n",
       "    </tr>\n",
       "    <tr>\n",
       "      <th>4</th>\n",
       "      <td>news_00015.xml</td>\n",
       "      <td>MMI TRANSACCIONA 234,749 MC, TMP O/N 7,2707 P...</td>\n",
       "      <td>lisbo numer ago reut merc monetari interbancar...</td>\n",
       "    </tr>\n",
       "  </tbody>\n",
       "</table>\n",
       "</div>"
      ],
      "text/plain": [
       "               ID                                             TITULO  \\\n",
       "0  news_00001.xml   PROVÁVEL INFLAÇÃO RETOME TENDENCIA DESCENDENT...   \n",
       "1  news_00004.xml   MMI TRANSACCIONA 178,129 MC, FUTUROS FAZEM 6 ...   \n",
       "2  news_00005.xml   ACÇÕES SEGUEM POUCO VOLÁTEIS, APATIA DEVE MAN...   \n",
       "3  news_00011.xml    ESCUDO SEGUE ESTÁVEL E APÁTICO NA MEIA SESSÃO.    \n",
       "4  news_00015.xml   MMI TRANSACCIONA 234,749 MC, TMP O/N 7,2707 P...   \n",
       "\n",
       "                                               TEXTO  \n",
       "0  lisbo numer set reut inflaca dev retom traject...  \n",
       "1  lisbo numer set reut merc monetari interbancar...  \n",
       "2  lisbo numer out reut acco continu futur sobr p...  \n",
       "3  escud segu relativ estavel mei sessa muit inte...  \n",
       "4  lisbo numer ago reut merc monetari interbancar...  "
      ]
     },
     "execution_count": 150,
     "metadata": {},
     "output_type": "execute_result"
    }
   ],
   "source": [
    "df_test.head()"
   ]
  },
  {
   "cell_type": "code",
   "execution_count": 151,
   "metadata": {},
   "outputs": [
    {
     "data": {
      "text/html": [
       "<div>\n",
       "<style scoped>\n",
       "    .dataframe tbody tr th:only-of-type {\n",
       "        vertical-align: middle;\n",
       "    }\n",
       "\n",
       "    .dataframe tbody tr th {\n",
       "        vertical-align: top;\n",
       "    }\n",
       "\n",
       "    .dataframe thead th {\n",
       "        text-align: right;\n",
       "    }\n",
       "</style>\n",
       "<table border=\"1\" class=\"dataframe\">\n",
       "  <thead>\n",
       "    <tr style=\"text-align: right;\">\n",
       "      <th></th>\n",
       "      <th>ID</th>\n",
       "      <th>TEXTO</th>\n",
       "    </tr>\n",
       "  </thead>\n",
       "  <tbody>\n",
       "    <tr>\n",
       "      <th>0</th>\n",
       "      <td>news_00001.xml</td>\n",
       "      <td>lisbo numer set reut inflaca dev retom traject...</td>\n",
       "    </tr>\n",
       "    <tr>\n",
       "      <th>1</th>\n",
       "      <td>news_00004.xml</td>\n",
       "      <td>lisbo numer set reut merc monetari interbancar...</td>\n",
       "    </tr>\n",
       "    <tr>\n",
       "      <th>2</th>\n",
       "      <td>news_00005.xml</td>\n",
       "      <td>lisbo numer out reut acco continu futur sobr p...</td>\n",
       "    </tr>\n",
       "    <tr>\n",
       "      <th>3</th>\n",
       "      <td>news_00011.xml</td>\n",
       "      <td>escud segu relativ estavel mei sessa muit inte...</td>\n",
       "    </tr>\n",
       "    <tr>\n",
       "      <th>4</th>\n",
       "      <td>news_00015.xml</td>\n",
       "      <td>lisbo numer ago reut merc monetari interbancar...</td>\n",
       "    </tr>\n",
       "  </tbody>\n",
       "</table>\n",
       "</div>"
      ],
      "text/plain": [
       "               ID                                              TEXTO\n",
       "0  news_00001.xml  lisbo numer set reut inflaca dev retom traject...\n",
       "1  news_00004.xml  lisbo numer set reut merc monetari interbancar...\n",
       "2  news_00005.xml  lisbo numer out reut acco continu futur sobr p...\n",
       "3  news_00011.xml  escud segu relativ estavel mei sessa muit inte...\n",
       "4  news_00015.xml  lisbo numer ago reut merc monetari interbancar..."
      ]
     },
     "execution_count": 151,
     "metadata": {},
     "output_type": "execute_result"
    }
   ],
   "source": [
    "df_test_preprocessed = df_test[['ID', 'TEXTO']]\n",
    "df_test_preprocessed.head()\n",
    "\n"
   ]
  },
  {
   "cell_type": "code",
   "execution_count": 152,
   "metadata": {},
   "outputs": [],
   "source": [
    "# Codificar os textos de df_test['TEXTO']\n",
    "X_test_encodings, X_test_masks = encode_texts(df_test['TEXTO'].tolist(), tokenizer)\n"
   ]
  },
  {
   "cell_type": "code",
   "execution_count": 153,
   "metadata": {},
   "outputs": [
    {
     "name": "stdout",
     "output_type": "stream",
     "text": [
      "Dimensao de X_test_embeddings:  (1193, 200, 768)\n"
     ]
    }
   ],
   "source": [
    "# Obter os embeddings BERT dos textos codificados\n",
    "X_test_embeddings = get_embeddings_in_batches(X_test_encodings, X_test_masks, bert_model, batch_size=32)\n",
    "print(\"Dimensao de X_test_embeddings: \", X_test_embeddings.shape)\n",
    "\n"
   ]
  },
  {
   "cell_type": "code",
   "execution_count": 154,
   "metadata": {},
   "outputs": [
    {
     "name": "stdout",
     "output_type": "stream",
     "text": [
      "tf.Tensor(\n",
      "[[[-0.05860672 -0.4655311   0.6790756  ... -0.26962525  0.47821656\n",
      "   -0.73732126]\n",
      "  [-0.13833925 -0.11783751 -0.34096038 ...  0.05653078 -0.11689239\n",
      "   -0.5344383 ]\n",
      "  [ 0.14417927 -0.14931385  0.32198763 ...  0.02633353  0.16841222\n",
      "   -0.84313345]\n",
      "  ...\n",
      "  [-0.37659723 -0.5338693   0.01574391 ...  0.24544317  0.14357632\n",
      "   -0.6090623 ]\n",
      "  [-0.17053753 -0.13113032  0.6075358  ... -0.09791958  0.23256034\n",
      "   -0.7561993 ]\n",
      "  [-0.05857116 -0.46473128  0.6796526  ... -0.268336    0.47785538\n",
      "   -0.7391996 ]]\n",
      "\n",
      " [[-0.1250717  -0.80419314  0.5652528  ... -0.24578682  0.71164584\n",
      "   -0.36426222]\n",
      "  [-0.29025197  0.02163731 -0.07080287 ...  0.1514535  -0.15169734\n",
      "   -0.41168827]\n",
      "  [ 0.09572091 -0.59701353  0.3269246  ... -0.45291507 -0.4192952\n",
      "   -0.68553543]\n",
      "  ...\n",
      "  [-0.07161978 -0.4451361   0.24228588 ...  0.2523452   0.21501167\n",
      "   -0.40004057]\n",
      "  [ 0.05318969 -0.37926787  0.38979167 ...  0.22462307  0.22367935\n",
      "   -0.38740778]\n",
      "  [ 0.04498376 -0.44406247  0.3464134  ...  0.23042288  0.2458225\n",
      "   -0.3738076 ]]\n",
      "\n",
      " [[-0.12711024 -0.6006498   0.7085116  ... -0.28395095  0.5187285\n",
      "   -0.4495092 ]\n",
      "  [-0.24957544  0.02696585 -0.49648222 ... -0.10427424 -0.08564495\n",
      "   -0.38174543]\n",
      "  [-0.07306013 -0.34156668  0.41789025 ... -0.30787364  0.09067672\n",
      "   -0.71145874]\n",
      "  ...\n",
      "  [ 0.17342323 -0.33927527  0.3637885  ... -0.03800863  0.2945464\n",
      "   -0.2859914 ]\n",
      "  [ 0.02386763 -0.36709598  0.4525669  ...  0.12025249  0.27613336\n",
      "   -0.23327178]\n",
      "  [ 0.15911329 -0.33296195  0.4789518  ...  0.10629199  0.08892529\n",
      "   -0.0690437 ]]\n",
      "\n",
      " ...\n",
      "\n",
      " [[ 0.02548668 -0.48293546  0.6110394  ... -0.36861995  0.6034932\n",
      "   -0.13587719]\n",
      "  [-0.09049752  0.01798075 -0.29434723 ... -0.13771315  0.06310284\n",
      "   -0.46343488]\n",
      "  [ 0.24731837 -0.5481026   0.10376149 ... -0.82768774 -0.64830613\n",
      "   -0.8959492 ]\n",
      "  ...\n",
      "  [ 0.4726777  -0.5412212   0.26747498 ...  0.14752033  0.19974701\n",
      "   -0.35154527]\n",
      "  [ 0.48583898 -0.5383596   0.16070077 ...  0.2025751   0.30644947\n",
      "   -0.38640243]\n",
      "  [ 0.34459385 -0.5311626   0.27533698 ...  0.09974653  0.26572576\n",
      "   -0.36322153]]\n",
      "\n",
      " [[-0.03965982 -0.5263115   0.6701323  ... -0.39033395  0.6744245\n",
      "   -0.5550207 ]\n",
      "  [-0.43234023 -0.05818107 -0.05493706 ... -0.24194434 -0.06088924\n",
      "   -0.36520842]\n",
      "  [-0.03212439 -0.05893266  0.7721029  ...  0.16403995  0.26238936\n",
      "   -0.71811485]\n",
      "  ...\n",
      "  [ 0.17484114 -0.35678765  0.31833175 ...  0.08616497  0.27846852\n",
      "   -0.38288498]\n",
      "  [ 0.10369059 -0.33161634  0.404229   ...  0.20180544  0.2910333\n",
      "   -0.503276  ]\n",
      "  [ 0.35190347 -0.33455968  0.68372303 ...  0.0680363   0.2282331\n",
      "   -0.4786348 ]]\n",
      "\n",
      " [[ 0.07336926 -0.4359472   0.690119   ... -0.57967967  0.6035046\n",
      "   -0.43135983]\n",
      "  [-0.10383159 -0.0904332  -0.10409808 ... -0.1766987   0.04187006\n",
      "   -0.6040428 ]\n",
      "  [-0.04654921 -0.2009409   0.48767138 ... -0.2589173   0.15795097\n",
      "   -0.9673211 ]\n",
      "  ...\n",
      "  [ 0.1969267  -0.576164    0.41880512 ... -0.3247016   0.08540656\n",
      "   -0.5760091 ]\n",
      "  [ 0.09776781 -0.62160206  0.36423945 ... -0.46414304  0.09457898\n",
      "   -0.5665487 ]\n",
      "  [ 0.32622543 -0.46678472  0.2754571  ... -0.19202033  0.17943889\n",
      "   -0.51951265]]], shape=(1193, 200, 768), dtype=float32)\n"
     ]
    }
   ],
   "source": [
    "print(X_test_embeddings)"
   ]
  },
  {
   "cell_type": "code",
   "execution_count": 155,
   "metadata": {},
   "outputs": [],
   "source": [
    "\n",
    "X_pred = df_test['TEXTO']"
   ]
  },
  {
   "cell_type": "code",
   "execution_count": 156,
   "metadata": {},
   "outputs": [
    {
     "name": "stdout",
     "output_type": "stream",
     "text": [
      "0       lisbo numer set reut inflaca dev retom traject...\n",
      "1       lisbo numer set reut merc monetari interbancar...\n",
      "2       lisbo numer out reut acco continu futur sobr p...\n",
      "3       escud segu relativ estavel mei sessa muit inte...\n",
      "4       lisbo numer ago reut merc monetari interbancar...\n",
      "                              ...                        \n",
      "1188    lisbo numer dez reut sistem fiscal continu dis...\n",
      "1189    lisbo numer nov reut ministr financ antoni sou...\n",
      "1190    lisbo numer jan reut indic produca industr ipi...\n",
      "1191    lisbo numer nov reut banc portug bp nao baix t...\n",
      "1192    lisbo numer nov reut inflaca bem nao transacio...\n",
      "Name: TEXTO, Length: 1193, dtype: object\n",
      "Dimensão de X_train_embeddings:  (1, 2781, 768)\n"
     ]
    }
   ],
   "source": [
    "print(X_pred)\n",
    "print(\"Dimensão de X_train_embeddings: \", X_train_embeddings.shape)\n"
   ]
  },
  {
   "cell_type": "code",
   "execution_count": 157,
   "metadata": {},
   "outputs": [
    {
     "name": "stderr",
     "output_type": "stream",
     "text": [
      "Some layers from the model checkpoint at neuralmind/bert-base-portuguese-cased were not used when initializing TFBertModel: ['mlm___cls']\n",
      "- This IS expected if you are initializing TFBertModel from the checkpoint of a model trained on another task or with another architecture (e.g. initializing a BertForSequenceClassification model from a BertForPreTraining model).\n",
      "- This IS NOT expected if you are initializing TFBertModel from the checkpoint of a model that you expect to be exactly identical (initializing a BertForSequenceClassification model from a BertForSequenceClassification model).\n",
      "Some layers of TFBertModel were not initialized from the model checkpoint at neuralmind/bert-base-portuguese-cased and are newly initialized: ['bert/pooler/dense/bias:0', 'bert/pooler/dense/kernel:0']\n",
      "You should probably TRAIN this model on a down-stream task to be able to use it for predictions and inference.\n"
     ]
    }
   ],
   "source": [
    "# Carregar o tokenizer e o modelo BERT pré-treinado em português\n",
    "tokenizer = BertTokenizer.from_pretrained('neuralmind/bert-base-portuguese-cased')\n",
    "bert_model = TFBertModel.from_pretrained('neuralmind/bert-base-portuguese-cased')\n",
    "\n",
    "# Função para codificar textos\n",
    "def encode_texts(texts, tokenizer, max_length=200):\n",
    "    inputs = tokenizer(texts, return_tensors='tf', max_length=max_length, truncation=True, padding=True)\n",
    "    return inputs['input_ids'], inputs['attention_mask']\n",
    "\n",
    "# Codificar os textos de X_pred usando o tokenizer do BERT\n",
    "X_pred_encodings, X_pred_masks = encode_texts(X_pred.tolist(), tokenizer)"
   ]
  },
  {
   "cell_type": "markdown",
   "metadata": {},
   "source": [
    "### Predição e Avaliação Final\n",
    "Realizamos a predição final no conjunto de teste usando o modelo treinado com os melhores hiperparâmetros.\n",
    "\n",
    "- **X_test_embeddings**: Embeddings BERT dos textos de teste.\n",
    "- **best_model**: Modelo treinado com os melhores hiperparâmetros.\n",
    "- Passando novamente função para obter as embeddings para ter certeza de que utilizamos as embeddings pré treinadas no formato correto"
   ]
  },
  {
   "cell_type": "code",
   "execution_count": 158,
   "metadata": {},
   "outputs": [
    {
     "name": "stdout",
     "output_type": "stream",
     "text": [
      "Dimensão de X_pred_embeddings:  (1193, 200, 768)\n"
     ]
    }
   ],
   "source": [
    "import tensorflow as tf\n",
    "\n",
    "# Função para obter embeddings em lotes\n",
    "def get_embeddings_in_batches(input_ids, attention_mask, model, batch_size=32):\n",
    "    num_samples = input_ids.shape[0]\n",
    "    embeddings = []\n",
    "    for start in range(0, num_samples, batch_size):\n",
    "        end = min(start + batch_size, num_samples)\n",
    "        batch_input_ids = input_ids[start:end]\n",
    "        batch_attention_mask = attention_mask[start:end]\n",
    "        outputs = model(batch_input_ids, attention_mask=batch_attention_mask)\n",
    "        embeddings.append(outputs.last_hidden_state)\n",
    "    return tf.concat(embeddings, axis=0)\n",
    "\n",
    "# Obter os embeddings BERT dos textos codificados\n",
    "X_pred_embeddings = get_embeddings_in_batches(X_pred_encodings, X_pred_masks, bert_model, batch_size=32)\n",
    "print(\"Dimensão de X_pred_embeddings: \", X_pred_embeddings.shape)"
   ]
  },
  {
   "cell_type": "markdown",
   "metadata": {},
   "source": [
    "### Predição e Avaliação Final\n",
    "Realizamos a predição final no conjunto de teste usando o modelo treinado com os melhores hiperparâmetros.\n",
    "\n",
    "- **X_test_embeddings**: Embeddings BERT dos textos de teste.\n",
    "- **best_model**: Modelo treinado com os melhores hiperparâmetros."
   ]
  },
  {
   "cell_type": "code",
   "execution_count": 159,
   "metadata": {},
   "outputs": [
    {
     "name": "stdout",
     "output_type": "stream",
     "text": [
      "\u001b[1m38/38\u001b[0m \u001b[32m━━━━━━━━━━━━━━━━━━━━\u001b[0m\u001b[37m\u001b[0m \u001b[1m9s\u001b[0m 237ms/step\n",
      "Dimensão das previsões:  (1193, 4)\n"
     ]
    }
   ],
   "source": [
    "y_pred_prob = best_model.predict(X_pred_embeddings)\n",
    "print(\"Dimensão das previsões: \", y_pred_prob.shape)\n",
    "\n"
   ]
  },
  {
   "cell_type": "code",
   "execution_count": 138,
   "metadata": {},
   "outputs": [
    {
     "name": "stdout",
     "output_type": "stream",
     "text": [
      "[[0.16104971 0.18974204 0.30523103 0.34397724]\n",
      " [0.22941121 0.2514986  0.21121863 0.3078715 ]\n",
      " [0.29826248 0.18807612 0.18217328 0.3314881 ]\n",
      " ...\n",
      " [0.23454227 0.25353652 0.18888706 0.32303423]\n",
      " [0.27066064 0.22956538 0.22316238 0.27661163]\n",
      " [0.29213488 0.22054406 0.23397765 0.2533434 ]]\n"
     ]
    }
   ],
   "source": [
    "print(y_pred_prob)"
   ]
  },
  {
   "cell_type": "markdown",
   "metadata": {},
   "source": [
    "# Formatação e Salvamento das Predições\n",
    "Formatamos os resultados das predições em um DataFrame e salvamos em um arquivo CSV. As colunas representam as probabilidades previstas para cada classe.\n",
    "Salvo como lstmSubmission.csv\n"
   ]
  },
  {
   "cell_type": "code",
   "execution_count": 160,
   "metadata": {},
   "outputs": [
    {
     "name": "stdout",
     "output_type": "stream",
     "text": [
      "               ID  CorpIndustrial  Economia  GovSocial  Mercados\n",
      "0  news_00001.xml        0.161050  0.189742   0.305231  0.343977\n",
      "1  news_00004.xml        0.229411  0.251499   0.211219  0.307871\n",
      "2  news_00005.xml        0.298262  0.188076   0.182173  0.331488\n",
      "3  news_00011.xml        0.220954  0.237253   0.216626  0.325167\n",
      "4  news_00015.xml        0.249211  0.197864   0.215252  0.337673\n"
     ]
    }
   ],
   "source": [
    "classes = ['CorpIndustrial', 'Economia', 'GovSocial', 'Mercados']\n",
    "\n",
    "df_prob = pd.DataFrame(y_pred_prob, columns=classes)\n",
    "df_prob.insert(0, 'ID', df_test['ID'])  # Supondo que 'ID' está presente no df_test\n",
    "\n",
    "# Salvar o DataFrame em um arquivo CSV\n",
    "path_submission = criar_diretorios('submission_files/lstm/')\n",
    "df_prob.to_csv(path_submission+'lstmSubmission.csv', index=False, float_format='%.5f')\n",
    "\n",
    "# Mostrar as primeiras linhas do DataFrame atualizado com as probabilidades previstas\n",
    "print(df_prob.head())"
   ]
  }
 ],
 "metadata": {
  "kernelspec": {
   "display_name": "Python 3",
   "language": "python",
   "name": "python3"
  },
  "language_info": {
   "codemirror_mode": {
    "name": "ipython",
    "version": 3
   },
   "file_extension": ".py",
   "mimetype": "text/x-python",
   "name": "python",
   "nbconvert_exporter": "python",
   "pygments_lexer": "ipython3",
   "version": "3.11.2"
  }
 },
 "nbformat": 4,
 "nbformat_minor": 2
}
