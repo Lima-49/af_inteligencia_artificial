{
 "cells": [
  {
   "cell_type": "code",
   "execution_count": 1,
   "metadata": {},
   "outputs": [],
   "source": [
    "import pandas as pd\n",
    "from zipfile import ZipFile\n",
    "import xml.etree.ElementTree as ET\n",
    "import os"
   ]
  },
  {
   "cell_type": "code",
   "execution_count": 2,
   "metadata": {},
   "outputs": [],
   "source": [
    "# Caminho dos arquivos extraidos do kaggle\n",
    "path_dataset = r'files\\classificao-de-notcias.zip'\n",
    "path_db = r'db'\n",
    "\n",
    "# Caminho dos arquivos que serão utilizados para a atividade\n",
    "path_train = r'db\\arquivos_competicao\\arquivos_competicao\\train.csv'\n",
    "path_test = r'db\\arquivos_competicao\\arquivos_competicao\\test.csv'\n",
    "path_news = r'db\\arquivos_competicao\\arquivos_competicao\\news'\n"
   ]
  },
  {
   "cell_type": "markdown",
   "metadata": {},
   "source": [
    "1. Extraindo os dados do arquivo .zip, baixado do kaggle"
   ]
  },
  {
   "cell_type": "code",
   "execution_count": 3,
   "metadata": {},
   "outputs": [
    {
     "name": "stdout",
     "output_type": "stream",
     "text": [
      "Arquivo já descompactado\n"
     ]
    }
   ],
   "source": [
    "def unzip(path, pathFolder):\n",
    "\n",
    "    # descompacta a base de dados de notícias\n",
    "    z = ZipFile(path, 'r')\n",
    "\n",
    "    if os.path.isdir(pathFolder):\n",
    "        z.extractall(pathFolder)\n",
    "        z.close()\n",
    "    else:\n",
    "        os.mkdir(pathFolder)\n",
    "        z.extractall(pathFolder)\n",
    "        z.close()\n",
    "\n",
    "    print(\"Arquivo descompactado com sucesso!\")\n",
    "    \n",
    "# Antes de descompactar os arquivos valida se ja foram descompactados antes\n",
    "if not os.path.isdir(path_news):\n",
    "    unzip(path_dataset, path_db)\n",
    "else:\n",
    "    print(\"Arquivo já descompactado\")"
   ]
  },
  {
   "cell_type": "markdown",
   "metadata": {},
   "source": [
    "2. Lendo o arquivo de treino como um DataFrame"
   ]
  },
  {
   "cell_type": "code",
   "execution_count": 4,
   "metadata": {},
   "outputs": [
    {
     "data": {
      "text/html": [
       "<div>\n",
       "<style scoped>\n",
       "    .dataframe tbody tr th:only-of-type {\n",
       "        vertical-align: middle;\n",
       "    }\n",
       "\n",
       "    .dataframe tbody tr th {\n",
       "        vertical-align: top;\n",
       "    }\n",
       "\n",
       "    .dataframe thead th {\n",
       "        text-align: right;\n",
       "    }\n",
       "</style>\n",
       "<table border=\"1\" class=\"dataframe\">\n",
       "  <thead>\n",
       "    <tr style=\"text-align: right;\">\n",
       "      <th></th>\n",
       "      <th>ID</th>\n",
       "      <th>Class</th>\n",
       "    </tr>\n",
       "  </thead>\n",
       "  <tbody>\n",
       "    <tr>\n",
       "      <th>0</th>\n",
       "      <td>news_00002.xml</td>\n",
       "      <td>Mercados</td>\n",
       "    </tr>\n",
       "    <tr>\n",
       "      <th>1</th>\n",
       "      <td>news_00003.xml</td>\n",
       "      <td>Mercados</td>\n",
       "    </tr>\n",
       "    <tr>\n",
       "      <th>2</th>\n",
       "      <td>news_00006.xml</td>\n",
       "      <td>Mercados</td>\n",
       "    </tr>\n",
       "    <tr>\n",
       "      <th>3</th>\n",
       "      <td>news_00007.xml</td>\n",
       "      <td>Economia</td>\n",
       "    </tr>\n",
       "    <tr>\n",
       "      <th>4</th>\n",
       "      <td>news_00008.xml</td>\n",
       "      <td>Mercados</td>\n",
       "    </tr>\n",
       "  </tbody>\n",
       "</table>\n",
       "</div>"
      ],
      "text/plain": [
       "               ID     Class\n",
       "0  news_00002.xml  Mercados\n",
       "1  news_00003.xml  Mercados\n",
       "2  news_00006.xml  Mercados\n",
       "3  news_00007.xml  Economia\n",
       "4  news_00008.xml  Mercados"
      ]
     },
     "execution_count": 4,
     "metadata": {},
     "output_type": "execute_result"
    }
   ],
   "source": [
    "df_train = pd.read_csv(path_train)\n",
    "df_train = df_train.sort_values(['ID'])\n",
    "df_train.head()"
   ]
  },
  {
   "cell_type": "markdown",
   "metadata": {},
   "source": [
    "3. Criando um df com os textos e titulos extraidos do XML"
   ]
  },
  {
   "cell_type": "code",
   "execution_count": 8,
   "metadata": {},
   "outputs": [
    {
     "data": {
      "text/html": [
       "<div>\n",
       "<style scoped>\n",
       "    .dataframe tbody tr th:only-of-type {\n",
       "        vertical-align: middle;\n",
       "    }\n",
       "\n",
       "    .dataframe tbody tr th {\n",
       "        vertical-align: top;\n",
       "    }\n",
       "\n",
       "    .dataframe thead th {\n",
       "        text-align: right;\n",
       "    }\n",
       "</style>\n",
       "<table border=\"1\" class=\"dataframe\">\n",
       "  <thead>\n",
       "    <tr style=\"text-align: right;\">\n",
       "      <th></th>\n",
       "      <th>ID</th>\n",
       "      <th>TITULO</th>\n",
       "      <th>TEXTO</th>\n",
       "      <th>Class</th>\n",
       "    </tr>\n",
       "  </thead>\n",
       "  <tbody>\n",
       "    <tr>\n",
       "      <th>0</th>\n",
       "      <td>news_00002.xml</td>\n",
       "      <td>FUTURO OT DEZ/96 CAI PARA 102,23 CONTRA 102,5...</td>\n",
       "      <td>*Futuro (BDPOTZ6)Dez/96 102,23 vs 102,52 no f...</td>\n",
       "      <td>Mercados</td>\n",
       "    </tr>\n",
       "    <tr>\n",
       "      <th>1</th>\n",
       "      <td>news_00003.xml</td>\n",
       "      <td>RESUMO TRANSACÇÕES NO MERCADO CONTÍNUO.</td>\n",
       "      <td>LISBOA, 30 Set (Reuter) - Transacções no ...</td>\n",
       "      <td>Mercados</td>\n",
       "    </tr>\n",
       "    <tr>\n",
       "      <th>2</th>\n",
       "      <td>news_00006.xml</td>\n",
       "      <td>INDICE PSI20 SOBE 1,28 PONTOS PARA 4.764,93.</td>\n",
       "      <td>LISBOA, 24 Out (Reuter) - O índice PSI20 subi...</td>\n",
       "      <td>Mercados</td>\n",
       "    </tr>\n",
       "    <tr>\n",
       "      <th>3</th>\n",
       "      <td>news_00007.xml</td>\n",
       "      <td>ÍNDICE PREÇOS PRODUÇÃO INDUSTRIAL AGO 1996 SO...</td>\n",
       "      <td>LISBOA, 29 Out (Reuter) - O Índice de Pre...</td>\n",
       "      <td>Economia</td>\n",
       "    </tr>\n",
       "    <tr>\n",
       "      <th>4</th>\n",
       "      <td>news_00008.xml</td>\n",
       "      <td>BDP INTERROMPIDA POR PROBLEMAS COMUNICAÇÕES.</td>\n",
       "      <td>LISBOA, 30 Set (Reuter) - A negociação na Bol...</td>\n",
       "      <td>Mercados</td>\n",
       "    </tr>\n",
       "  </tbody>\n",
       "</table>\n",
       "</div>"
      ],
      "text/plain": [
       "               ID                                             TITULO  \\\n",
       "0  news_00002.xml   FUTURO OT DEZ/96 CAI PARA 102,23 CONTRA 102,5...   \n",
       "1  news_00003.xml           RESUMO TRANSACÇÕES NO MERCADO CONTÍNUO.    \n",
       "2  news_00006.xml      INDICE PSI20 SOBE 1,28 PONTOS PARA 4.764,93.    \n",
       "3  news_00007.xml   ÍNDICE PREÇOS PRODUÇÃO INDUSTRIAL AGO 1996 SO...   \n",
       "4  news_00008.xml      BDP INTERROMPIDA POR PROBLEMAS COMUNICAÇÕES.    \n",
       "\n",
       "                                               TEXTO     Class  \n",
       "0   *Futuro (BDPOTZ6)Dez/96 102,23 vs 102,52 no f...  Mercados  \n",
       "1       LISBOA, 30 Set (Reuter) - Transacções no ...  Mercados  \n",
       "2   LISBOA, 24 Out (Reuter) - O índice PSI20 subi...  Mercados  \n",
       "3       LISBOA, 29 Out (Reuter) - O Índice de Pre...  Economia  \n",
       "4   LISBOA, 30 Set (Reuter) - A negociação na Bol...  Mercados  "
      ]
     },
     "execution_count": 8,
     "metadata": {},
     "output_type": "execute_result"
    }
   ],
   "source": [
    "def extract_xml_text(path_xml):\n",
    "    tree = ET.parse(path_xml)\n",
    "    root = tree.getroot()\n",
    "    headline = root.find('headline').text if root.find('headline') is not None else ''\n",
    "    paragraphs = root.findall('.//p')\n",
    "    text = ' '.join([p.text for p in paragraphs if p.text is not None])\n",
    "\n",
    "    return headline, text\n",
    "\n",
    "for idx in df_train.index:\n",
    "    file = df_train.at[idx, 'ID']\n",
    "    path_xml = f\"{path_news}\\{file}\"\n",
    "    titulo, texto = extract_xml_text(path_xml)\n",
    "    df_train.at[idx, 'TITULO'] = titulo\n",
    "    df_train.at[idx, 'TEXTO'] = texto\n",
    "\n",
    "df_train = df_train[['ID', 'TITULO', 'TEXTO', 'Class']]\n",
    "df_train.head()"
   ]
  }
 ],
 "metadata": {
  "kernelspec": {
   "display_name": "venv",
   "language": "python",
   "name": "python3"
  },
  "language_info": {
   "codemirror_mode": {
    "name": "ipython",
    "version": 3
   },
   "file_extension": ".py",
   "mimetype": "text/x-python",
   "name": "python",
   "nbconvert_exporter": "python",
   "pygments_lexer": "ipython3",
   "version": "3.11.7"
  }
 },
 "nbformat": 4,
 "nbformat_minor": 2
}
